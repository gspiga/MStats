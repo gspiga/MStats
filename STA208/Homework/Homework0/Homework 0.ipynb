{
 "cells": [
  {
   "cell_type": "markdown",
   "id": "ec13b64b",
   "metadata": {},
   "source": [
    "# Homework 0"
   ]
  },
  {
   "attachments": {},
   "cell_type": "markdown",
   "id": "3748a7b1",
   "metadata": {},
   "source": [
    "### by Gianni Spiga"
   ]
  },
  {
   "cell_type": "code",
   "execution_count": 1,
   "id": "b334ab05",
   "metadata": {},
   "outputs": [
    {
     "data": {
      "application/javascript": "\n            setTimeout(function() {\n                var nbb_cell_id = 1;\n                var nbb_unformatted_code = \"%load_ext nb_black\";\n                var nbb_formatted_code = \"%load_ext nb_black\";\n                var nbb_cells = Jupyter.notebook.get_cells();\n                for (var i = 0; i < nbb_cells.length; ++i) {\n                    if (nbb_cells[i].input_prompt_number == nbb_cell_id) {\n                        if (nbb_cells[i].get_text() == nbb_unformatted_code) {\n                             nbb_cells[i].set_text(nbb_formatted_code);\n                        }\n                        break;\n                    }\n                }\n            }, 500);\n            ",
      "text/plain": [
       "<IPython.core.display.Javascript object>"
      ]
     },
     "metadata": {},
     "output_type": "display_data"
    }
   ],
   "source": [
    "%load_ext nb_black"
   ]
  },
  {
   "cell_type": "code",
   "execution_count": 4,
   "id": "b3133b23",
   "metadata": {},
   "outputs": [],
   "source": [
    "import numpy as np\n",
    "import pandas as pd\n",
    "from IPython.display import display\n",
    "import copy"
   ]
  },
  {
   "attachments": {},
   "cell_type": "markdown",
   "id": "495a824f",
   "metadata": {},
   "source": [
    "##  Question 1 \n",
    "### a.)"
   ]
  },
  {
   "cell_type": "code",
   "execution_count": 2,
   "id": "41851e3b",
   "metadata": {},
   "outputs": [],
   "source": [
    "u = np.array([1, 2, 3, 3, 2, 1]).T\n",
    "# https://stackoverflow.com/questions/11885503/numpy-transpose-of-1d-array-not-giving-expected-result\n",
    "u = u[None].T\n",
    "#u"
   ]
  },
  {
   "cell_type": "code",
   "execution_count": 3,
   "id": "ce12303a",
   "metadata": {},
   "outputs": [
    {
     "data": {
      "text/plain": [
       "array([[ 0.92857143, -0.14285714, -0.21428571, -0.21428571, -0.14285714,\n",
       "        -0.07142857],\n",
       "       [-0.14285714,  0.71428571, -0.42857143, -0.42857143, -0.28571429,\n",
       "        -0.14285714],\n",
       "       [-0.21428571, -0.42857143,  0.35714286, -0.64285714, -0.42857143,\n",
       "        -0.21428571],\n",
       "       [-0.21428571, -0.42857143, -0.64285714,  0.35714286, -0.42857143,\n",
       "        -0.21428571],\n",
       "       [-0.14285714, -0.28571429, -0.42857143, -0.42857143,  0.71428571,\n",
       "        -0.14285714],\n",
       "       [-0.07142857, -0.14285714, -0.21428571, -0.21428571, -0.14285714,\n",
       "         0.92857143]])"
      ]
     },
     "execution_count": 3,
     "metadata": {},
     "output_type": "execute_result"
    }
   ],
   "source": [
    "uuT = u @ u.T\n",
    "#(2 / (u.T @ u))\n",
    "U = np.identity(6) - (2 / (u.T @ u)) * uuT\n",
    "U"
   ]
  },
  {
   "attachments": {},
   "cell_type": "markdown",
   "id": "60dd1716",
   "metadata": {},
   "source": [
    "### b.)"
   ]
  },
  {
   "cell_type": "code",
   "execution_count": 5,
   "id": "f123993d",
   "metadata": {},
   "outputs": [
    {
     "name": "stdout",
     "output_type": "stream",
     "text": [
      "[[ 1.00000000e+00 -3.29597460e-17 -3.98986399e-17 -5.37764278e-17\n",
      "  -3.98986399e-17 -2.77555756e-17]\n",
      " [-3.29597460e-17  1.00000000e+00 -7.97972799e-17 -1.07552856e-16\n",
      "  -5.20417043e-17 -2.77555756e-17]\n",
      " [-3.98986399e-17 -7.97972799e-17  1.00000000e+00 -5.55111512e-17\n",
      "  -9.36750677e-17 -5.55111512e-17]\n",
      " [-5.37764278e-17 -1.07552856e-16 -5.55111512e-17  1.00000000e+00\n",
      "  -1.49186219e-16 -8.32667268e-17]\n",
      " [-3.98986399e-17 -5.20417043e-17 -9.36750677e-17 -1.49186219e-16\n",
      "   1.00000000e+00 -2.77555756e-17]\n",
      " [-2.77555756e-17 -2.77555756e-17 -5.55111512e-17 -8.32667268e-17\n",
      "  -2.77555756e-17  1.00000000e+00]]\n",
      "The maximum value is  -2.7755575615628914e-17\n",
      "The minimum value is  -1.491862189340054e-16\n"
     ]
    }
   ],
   "source": [
    "C = U @ U \n",
    "print(C)\n",
    "# Duplicate data frame\n",
    "C_copy = copy.deepcopy(C)\n",
    "#print(C_copy)\n",
    "# replace diagonal elements of copy with negative inf\n",
    "np.fill_diagonal(C_copy, -np.inf)\n",
    "# Find max and min value\n",
    "max_value = C_copy.max()\n",
    "\n",
    "# Replace -inf with +inf and find min\n",
    "np.fill_diagonal(C_copy, np.inf)\n",
    "min_value = C_copy.min()\n",
    "print(\"The maximum value is \", max_value)\n",
    "print(\"The minimum value is \", min_value)"
   ]
  },
  {
   "attachments": {},
   "cell_type": "markdown",
   "id": "8a0e68f4",
   "metadata": {},
   "source": [
    "### c.)"
   ]
  },
  {
   "cell_type": "code",
   "execution_count": 6,
   "id": "83bf4076",
   "metadata": {},
   "outputs": [
    {
     "name": "stdout",
     "output_type": "stream",
     "text": [
      "The maximum value in the diagonal is  1.0\n",
      "The minimum value in the diagonal is  1.0\n"
     ]
    },
    {
     "data": {
      "application/javascript": "\n            setTimeout(function() {\n                var nbb_cell_id = 6;\n                var nbb_unformatted_code = \"min_diag = np.diag(C).min()\\nmax_diag = np.diag(C).max()\\n\\nprint(\\\"The maximum value in the diagonal is \\\", max_diag)\\nprint(\\\"The minimum value in the diagonal is \\\", min_diag)\";\n                var nbb_formatted_code = \"min_diag = np.diag(C).min()\\nmax_diag = np.diag(C).max()\\n\\nprint(\\\"The maximum value in the diagonal is \\\", max_diag)\\nprint(\\\"The minimum value in the diagonal is \\\", min_diag)\";\n                var nbb_cells = Jupyter.notebook.get_cells();\n                for (var i = 0; i < nbb_cells.length; ++i) {\n                    if (nbb_cells[i].input_prompt_number == nbb_cell_id) {\n                        if (nbb_cells[i].get_text() == nbb_unformatted_code) {\n                             nbb_cells[i].set_text(nbb_formatted_code);\n                        }\n                        break;\n                    }\n                }\n            }, 500);\n            ",
      "text/plain": [
       "<IPython.core.display.Javascript object>"
      ]
     },
     "metadata": {},
     "output_type": "display_data"
    }
   ],
   "source": [
    "min_diag = np.diag(C).min()\n",
    "max_diag = np.diag(C).max()\n",
    "\n",
    "print(\"The maximum value in the diagonal is \", max_diag)\n",
    "print(\"The minimum value in the diagonal is \", min_diag)"
   ]
  },
  {
   "attachments": {},
   "cell_type": "markdown",
   "id": "b76bafde",
   "metadata": {},
   "source": [
    "### d.) "
   ]
  },
  {
   "cell_type": "code",
   "execution_count": 7,
   "id": "c9d8e1fe",
   "metadata": {},
   "outputs": [
    {
     "data": {
      "text/plain": [
       "array([[-1.],\n",
       "       [-2.],\n",
       "       [-3.],\n",
       "       [-3.],\n",
       "       [-2.],\n",
       "       [-1.]])"
      ]
     },
     "execution_count": 7,
     "metadata": {},
     "output_type": "execute_result"
    },
    {
     "data": {
      "application/javascript": "\n            setTimeout(function() {\n                var nbb_cell_id = 7;\n                var nbb_unformatted_code = \"U @ u\";\n                var nbb_formatted_code = \"U @ u\";\n                var nbb_cells = Jupyter.notebook.get_cells();\n                for (var i = 0; i < nbb_cells.length; ++i) {\n                    if (nbb_cells[i].input_prompt_number == nbb_cell_id) {\n                        if (nbb_cells[i].get_text() == nbb_unformatted_code) {\n                             nbb_cells[i].set_text(nbb_formatted_code);\n                        }\n                        break;\n                    }\n                }\n            }, 500);\n            ",
      "text/plain": [
       "<IPython.core.display.Javascript object>"
      ]
     },
     "metadata": {},
     "output_type": "display_data"
    }
   ],
   "source": [
    "U @ u"
   ]
  },
  {
   "attachments": {},
   "cell_type": "markdown",
   "id": "fc65f21d",
   "metadata": {},
   "source": [
    "## e.)"
   ]
  },
  {
   "cell_type": "code",
   "execution_count": 10,
   "id": "868388d7",
   "metadata": {},
   "outputs": [
    {
     "data": {
      "text/plain": [
       "2.2857142857142856"
      ]
     },
     "execution_count": 10,
     "metadata": {},
     "output_type": "execute_result"
    },
    {
     "data": {
      "application/javascript": "\n            setTimeout(function() {\n                var nbb_cell_id = 10;\n                var nbb_unformatted_code = \"# Finding maximum in for sums of columns\\nnp.amax(np.abs(U), axis = 0)\\n\\nnp.max(np.sum(np.abs(U), axis = 1))\";\n                var nbb_formatted_code = \"# Finding maximum in for sums of columns\\nnp.amax(np.abs(U), axis=0)\\n\\nnp.max(np.sum(np.abs(U), axis=1))\";\n                var nbb_cells = Jupyter.notebook.get_cells();\n                for (var i = 0; i < nbb_cells.length; ++i) {\n                    if (nbb_cells[i].input_prompt_number == nbb_cell_id) {\n                        if (nbb_cells[i].get_text() == nbb_unformatted_code) {\n                             nbb_cells[i].set_text(nbb_formatted_code);\n                        }\n                        break;\n                    }\n                }\n            }, 500);\n            ",
      "text/plain": [
       "<IPython.core.display.Javascript object>"
      ]
     },
     "metadata": {},
     "output_type": "display_data"
    }
   ],
   "source": [
    "# Summing columns of abs(U) and finding max row value\n",
    "np.max(np.sum(np.abs(U), axis = 1))"
   ]
  },
  {
   "cell_type": "markdown",
   "id": "b66694fe",
   "metadata": {},
   "source": [
    "### f.) "
   ]
  },
  {
   "cell_type": "code",
   "execution_count": 13,
   "id": "2b887ece",
   "metadata": {},
   "outputs": [
    {
     "name": "stdout",
     "output_type": "stream",
     "text": [
      "[-0.21428571 -0.42857143  0.35714286 -0.64285714 -0.42857143 -0.21428571]\n"
     ]
    },
    {
     "data": {
      "text/plain": [
       "array([-0., -0.,  0., -1., -0., -0.])"
      ]
     },
     "execution_count": 13,
     "metadata": {},
     "output_type": "execute_result"
    },
    {
     "data": {
      "application/javascript": "\n            setTimeout(function() {\n                var nbb_cell_id = 13;\n                var nbb_unformatted_code = \"# Remember python indexing starts at 0, 3rd row = index 2\\nprint(U[2,])\\n\\n# We can round for simplicity\\nnp.round(U[2,])\";\n                var nbb_formatted_code = \"# Remember python indexing starts at 0, 3rd row = index 2\\nprint(U[2,])\\n\\n# We can round for simplicity\\nnp.round(U[2,])\";\n                var nbb_cells = Jupyter.notebook.get_cells();\n                for (var i = 0; i < nbb_cells.length; ++i) {\n                    if (nbb_cells[i].input_prompt_number == nbb_cell_id) {\n                        if (nbb_cells[i].get_text() == nbb_unformatted_code) {\n                             nbb_cells[i].set_text(nbb_formatted_code);\n                        }\n                        break;\n                    }\n                }\n            }, 500);\n            ",
      "text/plain": [
       "<IPython.core.display.Javascript object>"
      ]
     },
     "metadata": {},
     "output_type": "display_data"
    }
   ],
   "source": [
    "# Remember python indexing starts at 0, 3rd row = index 2\n",
    "print(U[2,])\n",
    "\n",
    "# We can round for simplicity\n",
    "np.round(U[2,])"
   ]
  },
  {
   "attachments": {},
   "cell_type": "markdown",
   "id": "dc804b91",
   "metadata": {},
   "source": [
    "### g.)"
   ]
  },
  {
   "cell_type": "code",
   "execution_count": null,
   "id": "99486e9c",
   "metadata": {},
   "outputs": [
    {
     "data": {
      "text/plain": [
       "array([-0.42857143, -0.42857143, -0.28571429, -0.14285714])"
      ]
     },
     "execution_count": 111,
     "metadata": {},
     "output_type": "execute_result"
    },
    {
     "data": {
      "application/javascript": "\n            setTimeout(function() {\n                var nbb_cell_id = 111;\n                var nbb_unformatted_code = \"U[2:, 1]\";\n                var nbb_formatted_code = \"U[2:, 1]\";\n                var nbb_cells = Jupyter.notebook.get_cells();\n                for (var i = 0; i < nbb_cells.length; ++i) {\n                    if (nbb_cells[i].input_prompt_number == nbb_cell_id) {\n                        if (nbb_cells[i].get_text() == nbb_unformatted_code) {\n                             nbb_cells[i].set_text(nbb_formatted_code);\n                        }\n                        break;\n                    }\n                }\n            }, 500);\n            ",
      "text/plain": [
       "<IPython.core.display.Javascript object>"
      ]
     },
     "metadata": {},
     "output_type": "display_data"
    }
   ],
   "source": [
    "U[2:, 1]"
   ]
  },
  {
   "attachments": {},
   "cell_type": "markdown",
   "id": "868d3642",
   "metadata": {},
   "source": [
    "### h.)"
   ]
  },
  {
   "cell_type": "code",
   "execution_count": 17,
   "id": "1f146531",
   "metadata": {},
   "outputs": [
    {
     "data": {
      "text/plain": [
       "array([[ 0.929, -0.143, -0.214, -0.   , -0.   , -0.   ],\n",
       "       [-0.143,  0.714, -0.429, -0.   , -0.   , -0.   ],\n",
       "       [-0.214, -0.429,  0.357, -0.   , -0.   , -0.   ],\n",
       "       [-0.   , -0.   , -0.   ,  0.643,  0.429,  0.214],\n",
       "       [-0.   , -0.   , -0.   ,  0.429,  0.286,  0.143],\n",
       "       [-0.   , -0.   , -0.   ,  0.214,  0.143,  0.071]])"
      ]
     },
     "execution_count": 17,
     "metadata": {},
     "output_type": "execute_result"
    },
    {
     "data": {
      "application/javascript": "\n            setTimeout(function() {\n                var nbb_cell_id = 17;\n                var nbb_unformatted_code = \"A = U[:,0:3]\\nP = np.round(A @ A.T, 3)\\nP\";\n                var nbb_formatted_code = \"A = U[:, 0:3]\\nP = np.round(A @ A.T, 3)\\nP\";\n                var nbb_cells = Jupyter.notebook.get_cells();\n                for (var i = 0; i < nbb_cells.length; ++i) {\n                    if (nbb_cells[i].input_prompt_number == nbb_cell_id) {\n                        if (nbb_cells[i].get_text() == nbb_unformatted_code) {\n                             nbb_cells[i].set_text(nbb_formatted_code);\n                        }\n                        break;\n                    }\n                }\n            }, 500);\n            ",
      "text/plain": [
       "<IPython.core.display.Javascript object>"
      ]
     },
     "metadata": {},
     "output_type": "display_data"
    }
   ],
   "source": [
    "A = U[:,0:3]\n",
    "P = np.round(A @ A.T, 3)\n",
    "P"
   ]
  },
  {
   "attachments": {},
   "cell_type": "markdown",
   "id": "81aa7411",
   "metadata": {},
   "source": [
    "### e.) "
   ]
  },
  {
   "cell_type": "code",
   "execution_count": 25,
   "id": "abf30dd0",
   "metadata": {},
   "outputs": [
    {
     "data": {
      "text/plain": [
       "0.0"
      ]
     },
     "execution_count": 25,
     "metadata": {},
     "output_type": "execute_result"
    },
    {
     "data": {
      "application/javascript": "\n            setTimeout(function() {\n                var nbb_cell_id = 25;\n                var nbb_unformatted_code = \"np.max(np.sum(np.abs(np.round(P@P - P,3)), axis = 1))\\n#print(P@P - P)\";\n                var nbb_formatted_code = \"np.max(np.sum(np.abs(np.round(P @ P - P, 3)), axis=1))\\n# print(P@P - P)\";\n                var nbb_cells = Jupyter.notebook.get_cells();\n                for (var i = 0; i < nbb_cells.length; ++i) {\n                    if (nbb_cells[i].input_prompt_number == nbb_cell_id) {\n                        if (nbb_cells[i].get_text() == nbb_unformatted_code) {\n                             nbb_cells[i].set_text(nbb_formatted_code);\n                        }\n                        break;\n                    }\n                }\n            }, 500);\n            ",
      "text/plain": [
       "<IPython.core.display.Javascript object>"
      ]
     },
     "metadata": {},
     "output_type": "display_data"
    }
   ],
   "source": [
    "np.max(np.sum(np.abs(np.round(P@P - P,3)), axis = 1))\n",
    "#print(P@P - P)"
   ]
  },
  {
   "attachments": {},
   "cell_type": "markdown",
   "id": "1045e582",
   "metadata": {},
   "source": [
    "### j.) "
   ]
  },
  {
   "cell_type": "code",
   "execution_count": 27,
   "id": "5e494bcb",
   "metadata": {},
   "outputs": [
    {
     "data": {
      "text/plain": [
       "array([[ 0.071,  0.143,  0.214, -0.   , -0.   , -0.   ],\n",
       "       [ 0.143,  0.286,  0.429, -0.   , -0.   , -0.   ],\n",
       "       [ 0.214,  0.429,  0.643, -0.   , -0.   , -0.   ],\n",
       "       [-0.   , -0.   , -0.   ,  0.357, -0.429, -0.214],\n",
       "       [-0.   , -0.   , -0.   , -0.429,  0.714, -0.143],\n",
       "       [-0.   , -0.   , -0.   , -0.214, -0.143,  0.929]])"
      ]
     },
     "execution_count": 27,
     "metadata": {},
     "output_type": "execute_result"
    },
    {
     "data": {
      "application/javascript": "\n            setTimeout(function() {\n                var nbb_cell_id = 27;\n                var nbb_unformatted_code = \"B = U[:,3:]\\nQ = np.round(B @ B.T,3)\\nQ\";\n                var nbb_formatted_code = \"B = U[:, 3:]\\nQ = np.round(B @ B.T, 3)\\nQ\";\n                var nbb_cells = Jupyter.notebook.get_cells();\n                for (var i = 0; i < nbb_cells.length; ++i) {\n                    if (nbb_cells[i].input_prompt_number == nbb_cell_id) {\n                        if (nbb_cells[i].get_text() == nbb_unformatted_code) {\n                             nbb_cells[i].set_text(nbb_formatted_code);\n                        }\n                        break;\n                    }\n                }\n            }, 500);\n            ",
      "text/plain": [
       "<IPython.core.display.Javascript object>"
      ]
     },
     "metadata": {},
     "output_type": "display_data"
    }
   ],
   "source": [
    "B = U[:,3:]\n",
    "Q = np.round(B @ B.T,3)\n",
    "Q"
   ]
  },
  {
   "attachments": {},
   "cell_type": "markdown",
   "id": "e986501a",
   "metadata": {},
   "source": [
    "### k.) "
   ]
  },
  {
   "cell_type": "code",
   "execution_count": 28,
   "id": "87ec1c84",
   "metadata": {},
   "outputs": [
    {
     "data": {
      "text/plain": [
       "0.0"
      ]
     },
     "execution_count": 28,
     "metadata": {},
     "output_type": "execute_result"
    },
    {
     "data": {
      "application/javascript": "\n            setTimeout(function() {\n                var nbb_cell_id = 28;\n                var nbb_unformatted_code = \"np.max(np.sum(np.abs(np.round(Q@Q - Q,3)), axis = 1))\";\n                var nbb_formatted_code = \"np.max(np.sum(np.abs(np.round(Q @ Q - Q, 3)), axis=1))\";\n                var nbb_cells = Jupyter.notebook.get_cells();\n                for (var i = 0; i < nbb_cells.length; ++i) {\n                    if (nbb_cells[i].input_prompt_number == nbb_cell_id) {\n                        if (nbb_cells[i].get_text() == nbb_unformatted_code) {\n                             nbb_cells[i].set_text(nbb_formatted_code);\n                        }\n                        break;\n                    }\n                }\n            }, 500);\n            ",
      "text/plain": [
       "<IPython.core.display.Javascript object>"
      ]
     },
     "metadata": {},
     "output_type": "display_data"
    }
   ],
   "source": [
    "np.max(np.sum(np.abs(np.round(Q@Q - Q,3)), axis = 1))"
   ]
  },
  {
   "attachments": {},
   "cell_type": "markdown",
   "id": "48a07c3d",
   "metadata": {},
   "source": [
    "### l.)"
   ]
  },
  {
   "cell_type": "code",
   "execution_count": 29,
   "id": "9ba9a547",
   "metadata": {},
   "outputs": [
    {
     "data": {
      "text/plain": [
       "array([[ 1.,  0.,  0., -0., -0., -0.],\n",
       "       [ 0.,  1.,  0., -0., -0., -0.],\n",
       "       [ 0.,  0.,  1., -0., -0., -0.],\n",
       "       [-0., -0., -0.,  1.,  0.,  0.],\n",
       "       [-0., -0., -0.,  0.,  1.,  0.],\n",
       "       [-0., -0., -0.,  0.,  0.,  1.]])"
      ]
     },
     "execution_count": 29,
     "metadata": {},
     "output_type": "execute_result"
    },
    {
     "data": {
      "application/javascript": "\n            setTimeout(function() {\n                var nbb_cell_id = 29;\n                var nbb_unformatted_code = \"P + Q\";\n                var nbb_formatted_code = \"P + Q\";\n                var nbb_cells = Jupyter.notebook.get_cells();\n                for (var i = 0; i < nbb_cells.length; ++i) {\n                    if (nbb_cells[i].input_prompt_number == nbb_cell_id) {\n                        if (nbb_cells[i].get_text() == nbb_unformatted_code) {\n                             nbb_cells[i].set_text(nbb_formatted_code);\n                        }\n                        break;\n                    }\n                }\n            }, 500);\n            ",
      "text/plain": [
       "<IPython.core.display.Javascript object>"
      ]
     },
     "metadata": {},
     "output_type": "display_data"
    }
   ],
   "source": [
    "P + Q"
   ]
  },
  {
   "attachments": {},
   "cell_type": "markdown",
   "id": "43a72c36",
   "metadata": {},
   "source": [
    "## Question 2"
   ]
  },
  {
   "cell_type": "code",
   "execution_count": 48,
   "metadata": {},
   "outputs": [
    {
     "data": {
      "text/html": [
       "<div>\n",
       "<style scoped>\n",
       "    .dataframe tbody tr th:only-of-type {\n",
       "        vertical-align: middle;\n",
       "    }\n",
       "\n",
       "    .dataframe tbody tr th {\n",
       "        vertical-align: top;\n",
       "    }\n",
       "\n",
       "    .dataframe thead th {\n",
       "        text-align: right;\n",
       "    }\n",
       "</style>\n",
       "<table border=\"1\" class=\"dataframe\">\n",
       "  <thead>\n",
       "    <tr style=\"text-align: right;\">\n",
       "      <th></th>\n",
       "      <th>0</th>\n",
       "      <th>1</th>\n",
       "      <th>2</th>\n",
       "      <th>3</th>\n",
       "      <th>4</th>\n",
       "    </tr>\n",
       "  </thead>\n",
       "  <tbody>\n",
       "    <tr>\n",
       "      <th>0</th>\n",
       "      <td>1</td>\n",
       "      <td>4/12/81</td>\n",
       "      <td>6</td>\n",
       "      <td>0.0</td>\n",
       "      <td>66</td>\n",
       "    </tr>\n",
       "    <tr>\n",
       "      <th>1</th>\n",
       "      <td>2</td>\n",
       "      <td>11/12/81</td>\n",
       "      <td>6</td>\n",
       "      <td>1.0</td>\n",
       "      <td>70</td>\n",
       "    </tr>\n",
       "    <tr>\n",
       "      <th>2</th>\n",
       "      <td>3</td>\n",
       "      <td>3/22/82</td>\n",
       "      <td>6</td>\n",
       "      <td>0.0</td>\n",
       "      <td>69</td>\n",
       "    </tr>\n",
       "    <tr>\n",
       "      <th>3</th>\n",
       "      <td>5</td>\n",
       "      <td>11/11/82</td>\n",
       "      <td>6</td>\n",
       "      <td>0.0</td>\n",
       "      <td>68</td>\n",
       "    </tr>\n",
       "    <tr>\n",
       "      <th>4</th>\n",
       "      <td>6</td>\n",
       "      <td>4/04/83</td>\n",
       "      <td>6</td>\n",
       "      <td>0.0</td>\n",
       "      <td>67</td>\n",
       "    </tr>\n",
       "    <tr>\n",
       "      <th>5</th>\n",
       "      <td>7</td>\n",
       "      <td>6/18/83</td>\n",
       "      <td>6</td>\n",
       "      <td>0.0</td>\n",
       "      <td>72</td>\n",
       "    </tr>\n",
       "    <tr>\n",
       "      <th>6</th>\n",
       "      <td>8</td>\n",
       "      <td>8/30/83</td>\n",
       "      <td>6</td>\n",
       "      <td>0.0</td>\n",
       "      <td>73</td>\n",
       "    </tr>\n",
       "    <tr>\n",
       "      <th>7</th>\n",
       "      <td>9</td>\n",
       "      <td>11/28/83</td>\n",
       "      <td>6</td>\n",
       "      <td>0.0</td>\n",
       "      <td>70</td>\n",
       "    </tr>\n",
       "    <tr>\n",
       "      <th>8</th>\n",
       "      <td>41-B</td>\n",
       "      <td>2/03/84</td>\n",
       "      <td>6</td>\n",
       "      <td>1.0</td>\n",
       "      <td>57</td>\n",
       "    </tr>\n",
       "    <tr>\n",
       "      <th>9</th>\n",
       "      <td>41-C</td>\n",
       "      <td>4/06/84</td>\n",
       "      <td>6</td>\n",
       "      <td>1.0</td>\n",
       "      <td>63</td>\n",
       "    </tr>\n",
       "    <tr>\n",
       "      <th>10</th>\n",
       "      <td>41-D</td>\n",
       "      <td>8/30/84</td>\n",
       "      <td>6</td>\n",
       "      <td>1.0</td>\n",
       "      <td>70</td>\n",
       "    </tr>\n",
       "    <tr>\n",
       "      <th>11</th>\n",
       "      <td>41-G</td>\n",
       "      <td>10/05/84</td>\n",
       "      <td>6</td>\n",
       "      <td>0.0</td>\n",
       "      <td>78</td>\n",
       "    </tr>\n",
       "    <tr>\n",
       "      <th>12</th>\n",
       "      <td>51-A</td>\n",
       "      <td>11/08/84</td>\n",
       "      <td>6</td>\n",
       "      <td>0.0</td>\n",
       "      <td>67</td>\n",
       "    </tr>\n",
       "    <tr>\n",
       "      <th>13</th>\n",
       "      <td>51-C</td>\n",
       "      <td>1/24/85</td>\n",
       "      <td>6</td>\n",
       "      <td>3.0</td>\n",
       "      <td>53</td>\n",
       "    </tr>\n",
       "    <tr>\n",
       "      <th>14</th>\n",
       "      <td>51-D</td>\n",
       "      <td>4/12/85</td>\n",
       "      <td>6</td>\n",
       "      <td>0.0</td>\n",
       "      <td>67</td>\n",
       "    </tr>\n",
       "    <tr>\n",
       "      <th>15</th>\n",
       "      <td>51-B</td>\n",
       "      <td>4/29/85</td>\n",
       "      <td>6</td>\n",
       "      <td>0.0</td>\n",
       "      <td>75</td>\n",
       "    </tr>\n",
       "    <tr>\n",
       "      <th>16</th>\n",
       "      <td>51-G</td>\n",
       "      <td>6/17/85</td>\n",
       "      <td>6</td>\n",
       "      <td>0.0</td>\n",
       "      <td>70</td>\n",
       "    </tr>\n",
       "    <tr>\n",
       "      <th>17</th>\n",
       "      <td>51-F</td>\n",
       "      <td>7/29/85</td>\n",
       "      <td>6</td>\n",
       "      <td>0.0</td>\n",
       "      <td>81</td>\n",
       "    </tr>\n",
       "    <tr>\n",
       "      <th>18</th>\n",
       "      <td>51-I</td>\n",
       "      <td>8/27/85</td>\n",
       "      <td>6</td>\n",
       "      <td>0.0</td>\n",
       "      <td>76</td>\n",
       "    </tr>\n",
       "    <tr>\n",
       "      <th>19</th>\n",
       "      <td>51-J</td>\n",
       "      <td>10/03/85</td>\n",
       "      <td>6</td>\n",
       "      <td>0.0</td>\n",
       "      <td>79</td>\n",
       "    </tr>\n",
       "    <tr>\n",
       "      <th>20</th>\n",
       "      <td>61-A</td>\n",
       "      <td>10/30/85</td>\n",
       "      <td>6</td>\n",
       "      <td>2.0</td>\n",
       "      <td>75</td>\n",
       "    </tr>\n",
       "    <tr>\n",
       "      <th>21</th>\n",
       "      <td>61-B</td>\n",
       "      <td>11/26/85</td>\n",
       "      <td>6</td>\n",
       "      <td>0.0</td>\n",
       "      <td>76</td>\n",
       "    </tr>\n",
       "    <tr>\n",
       "      <th>22</th>\n",
       "      <td>61-C</td>\n",
       "      <td>1/12/86</td>\n",
       "      <td>6</td>\n",
       "      <td>1.0</td>\n",
       "      <td>58</td>\n",
       "    </tr>\n",
       "    <tr>\n",
       "      <th>23</th>\n",
       "      <td>61-I</td>\n",
       "      <td>1/28/86</td>\n",
       "      <td>6</td>\n",
       "      <td>NaN</td>\n",
       "      <td>31</td>\n",
       "    </tr>\n",
       "  </tbody>\n",
       "</table>\n",
       "</div>"
      ],
      "text/plain": [
       "       0         1  2    3   4\n",
       "0      1   4/12/81  6  0.0  66\n",
       "1      2  11/12/81  6  1.0  70\n",
       "2      3   3/22/82  6  0.0  69\n",
       "3      5  11/11/82  6  0.0  68\n",
       "4      6   4/04/83  6  0.0  67\n",
       "5      7   6/18/83  6  0.0  72\n",
       "6      8   8/30/83  6  0.0  73\n",
       "7      9  11/28/83  6  0.0  70\n",
       "8   41-B   2/03/84  6  1.0  57\n",
       "9   41-C   4/06/84  6  1.0  63\n",
       "10  41-D   8/30/84  6  1.0  70\n",
       "11  41-G  10/05/84  6  0.0  78\n",
       "12  51-A  11/08/84  6  0.0  67\n",
       "13  51-C   1/24/85  6  3.0  53\n",
       "14  51-D   4/12/85  6  0.0  67\n",
       "15  51-B   4/29/85  6  0.0  75\n",
       "16  51-G   6/17/85  6  0.0  70\n",
       "17  51-F   7/29/85  6  0.0  81\n",
       "18  51-I   8/27/85  6  0.0  76\n",
       "19  51-J  10/03/85  6  0.0  79\n",
       "20  61-A  10/30/85  6  2.0  75\n",
       "21  61-B  11/26/85  6  0.0  76\n",
       "22  61-C   1/12/86  6  1.0  58\n",
       "23  61-I   1/28/86  6  NaN  31"
      ]
     },
     "metadata": {},
     "output_type": "display_data"
    },
    {
     "data": {
      "text/plain": [
       "-0.5613284258418356"
      ]
     },
     "execution_count": 48,
     "metadata": {},
     "output_type": "execute_result"
    },
    {
     "data": {
      "application/javascript": "\n            setTimeout(function() {\n                var nbb_cell_id = 48;\n                var nbb_unformatted_code = \"oring = pd.read_csv(\\\"../STA208/hw0/oringp.dat\\\",sep = \\\"\\\\s+\\\", header = None)\\ndisplay(oring)\\n# remove the last observation\\noring = oring[:-1]\\n#display(oring)\\n\\n# Find the correlation between number of fails ('0') and temperature (\\\"66\\\")\\noring.iloc[:,3].corr(oring.iloc[:,4])\";\n                var nbb_formatted_code = \"oring = pd.read_csv(\\\"../STA208/hw0/oringp.dat\\\", sep=\\\"\\\\s+\\\", header=None)\\ndisplay(oring)\\n# remove the last observation\\noring = oring[:-1]\\n# display(oring)\\n\\n# Find the correlation between number of fails ('0') and temperature (\\\"66\\\")\\noring.iloc[:, 3].corr(oring.iloc[:, 4])\";\n                var nbb_cells = Jupyter.notebook.get_cells();\n                for (var i = 0; i < nbb_cells.length; ++i) {\n                    if (nbb_cells[i].input_prompt_number == nbb_cell_id) {\n                        if (nbb_cells[i].get_text() == nbb_unformatted_code) {\n                             nbb_cells[i].set_text(nbb_formatted_code);\n                        }\n                        break;\n                    }\n                }\n            }, 500);\n            ",
      "text/plain": [
       "<IPython.core.display.Javascript object>"
      ]
     },
     "metadata": {},
     "output_type": "display_data"
    }
   ],
   "source": [
    "oring = pd.read_csv(\"../STA208/hw0/oringp.dat\",sep = \"\\s+\", header = None)\n",
    "display(oring)\n",
    "# remove the last observation\n",
    "oring = oring[:-1]\n",
    "#display(oring)\n",
    "\n",
    "# Find the correlation between number of fails ('0') and temperature (\"66\")\n",
    "oring.iloc[:,3].corr(oring.iloc[:,4])"
   ]
  },
  {
   "attachments": {},
   "cell_type": "markdown",
   "id": "c7ca9a84",
   "metadata": {},
   "source": [
    "## Question 3"
   ]
  },
  {
   "cell_type": "code",
   "execution_count": 48,
   "id": "55575ad6",
   "metadata": {},
   "outputs": [],
   "source": [
    "def dmvnorm_lowrank(y, mu, Z, sigma0, sigma1, log = False):\n",
    "    if isinstance(mu, np.ndarray):\n",
    "        n <- mu.size\n",
    "    else:\n",
    "        raise ValueError(\"mu should be a list\")\n",
    "    \n",
    "    if (len(y) != n): \n",
    "        raise ValueError(\"y should have correct length\")\n",
    "    if sigma0 <0 or sigma1 < 0:\n",
    "        raise ValueError(\"sigma should be positive\")\n",
    "    \n",
    "    sZ = sigma1** 2 *Z @ Z.T + sigma0 ** 2 * np.identity(n = n)\n",
    "    likhood = (-n/2 * np.log(2 * np.pi)) - (1/2 * np.log(np.linalg.det(sZ))) - (1/2*(y - mu).T @ np.linalg.inv(sZ) @ (y - mu))\n",
    "\n",
    "    if log == False:\n",
    "        return np.exp(likhood)\n",
    "    else:\n",
    "        return likhood"
   ]
  },
  {
   "cell_type": "code",
   "execution_count": 47,
   "id": "956a81b3",
   "metadata": {},
   "outputs": [
    {
     "name": "stdout",
     "output_type": "stream",
     "text": [
      "9.20558563780895e-19\n",
      "9.205585637808754e-19 is scipy result\n"
     ]
    }
   ],
   "source": [
    "np.random.seed(123)\n",
    "\n",
    "n = 10\n",
    "q = 15\n",
    "\n",
    "sigma0 = np.random.uniform(0, 10, size = 1)\n",
    "sigma1 = np.random.uniform(0,10,size = 1)\n",
    "\n",
    "Z = np.random.normal(10, size =  (n, q))\n",
    "\n",
    "mu = np.random.rand(n,)\n",
    "var_y = sigma1**2 * Z @ Z.T + sigma0**2 * np.identity(n)\n",
    "y = np.random.multivariate_normal(mean = mu, cov = var_y) #mu + Z @ gamma + sigma0 * np.random.normal(size = n)\n",
    "\n",
    "print(dmvnorm_lowrank(y = y, mu = mu, Z = Z, sigma0 = sigma0, sigma1 = sigma1, log= False))\n",
    "\n",
    "from scipy.stats import multivariate_normal as mvn \n",
    "print(mvn.pdf(y, mean = mu, cov = var_y), \"is scipy result\")"
   ]
  }
 ],
 "metadata": {
  "kernelspec": {
   "display_name": "Python 3 (ipykernel)",
   "language": "python",
   "name": "python3"
  },
  "language_info": {
   "codemirror_mode": {
    "name": "ipython",
    "version": 3
   },
   "file_extension": ".py",
   "mimetype": "text/x-python",
   "name": "python",
   "nbconvert_exporter": "python",
   "pygments_lexer": "ipython3",
   "version": "3.8.16"
  }
 },
 "nbformat": 4,
 "nbformat_minor": 5
}
