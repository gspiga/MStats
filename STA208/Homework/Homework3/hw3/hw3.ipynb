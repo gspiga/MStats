{
 "cells": [
  {
   "attachments": {},
   "cell_type": "markdown",
   "id": "f2ba0a96",
   "metadata": {},
   "source": [
    "# STA 208: Homework 3 (Do not distribute)\n",
    "\n",
    "## Due 06/02/2023 midnight (11:59pm)\n",
    "\n",
    "__Instructions:__ \n",
    "\n",
    "1. Submit your homework using one file name ”LastName_FirstName_hw3.html” on canvas. \n",
    "2. The written portions can be either done in markdown and TeX in new cells or written by hand and scanned. Using TeX is strongly preferred. However, if you have scanned solutions for handwriting, you can submit a zip file. Please make sure your handwriting is clear and readable and your scanned files are displayed properly in your jupyter notebook. \n",
    "3. Your code should be readable; writing a piece of code should be compared to writing a page of a book. Adopt the one-statement-per-line rule. Consider splitting a lengthy statement into multiple lines to improve readability. (You will lose one point for each line that does not follow the one-statementper-line rule)\n",
    "4. To help understand and maintain code, you should always add comments to explain your code. (homework with no comments will receive 0 points). For a very long comment, please break it into multiple lines.\n",
    "5. In your Jupyter Notebook, put your answers in new cells after each exercise. You can make as many new cells as you like. Use code cells for code and Markdown cells for text.\n",
    "6. Please make sure to print out the necessary results to avoid losing points. We should not run your code to figure out your answers. \n",
    "7. However, also make sure we are able to open this notebook and run everything here by running the cells in sequence; in case that the TA wants to check the details.\n",
    "8. You will be graded on correctness of your math, code efficiency and succinctness, and conclusions and modelling decisions\n"
   ]
  },
  {
   "attachments": {},
   "cell_type": "markdown",
   "id": "b6525107",
   "metadata": {},
   "source": [
    "### Exercise 1 (Probabilistic PCA and EM)\n",
    "\n",
    "In Week 5-2, we learned the Probabilistic PCA model proposed by Tipping and Bishop (1999). \n",
    "\n",
    "Consider the model \n",
    "$$\n",
    "x_i = \\mu + \\theta w_i + \\sigma \\varepsilon_i,\n",
    "$$\n",
    "where \n",
    "$\\theta \\in \\mathbb{R}^{p \\times r}$ is the loadings matrix (i.e., $\\theta = VD$),\n",
    "$w_i \\overset{\\text{i.i.d}}{\\sim} N(0, I_r)$, and $\\varepsilon_i \\overset{\\text{i.i.d}}{\\sim} N(0, I_p)$.\n",
    "For now, let's assume $\\mu = 0_p$ for simplicity.\n",
    "\n",
    "The likelihood function can be written as \n",
    "$$\n",
    "\\mathcal{L}(\\theta, \\sigma^2 | x_1, \\dots, x_n) = \\prod_{i=1}^n \\int N(x_i | \\theta w_i, \\sigma^2 I_p) N(w_i | 0, I_r) dw_i,\n",
    "$$\n",
    "and it's log-likelihood function is given by \n",
    "$$\n",
    "\\ell(\\theta, \\sigma^2 | x_1, \\dots, x_n) = \\sum_{i=1}^n \\log \\int N(x_i | \\theta w_i, \\sigma^2 I_p) N(w_i | 0, I_r) dw_i.\n",
    "$$\n",
    "To derive the MLE, we will use the EM algorithm:\n",
    "\n",
    "1. Derive the expectation-step (E-step) of the EM algorithm\n",
    "\n",
    "2. Obtain the expressions of $\\hat \\theta$ and $\\hat \\sigma^2$ from the maximization step (M-step) \n",
    "3. Describe how you implement the algorithm (e.g., you can write a sudo code). How can you make sure $\\langle \\theta_j, \\theta_k \\rangle = 0$ for any $j \\neq k$ in each iteration? ($\\theta_j$ is the $j$-th column of $\\theta$)?"
   ]
  },
  {
   "attachments": {},
   "cell_type": "markdown",
   "id": "5c492f63",
   "metadata": {},
   "source": [
    "### 1.) \n",
    "\n",
    "$$\n",
    "\\begin{aligned}\n",
    "log p(x, w) &= \\sum_{i = 1}^n [\\frac{1}{2\\sigma^2}||x_i- \\theta w_i||^2 - \\frac{p}{2}log(2\\pi\\sigma^2) - \\frac{1}{2} ||w_i||^2 - \\frac{r}{2}log2\\pi] \\\\\n",
    "&= -\\frac{1}{\\sigma^2} \\sum_{i = 1}^n (x_i^T x_i - 2 x_i^T\\theta E[w_i]+E[w_i^T \\theta^T w_i]) - \\frac{np}{2}log(2 \\pi \\sigma^2)- \\frac{1}{2}\\sum_{i = 1}^n w_i^Tw_i - \\frac{nr}{2} log(2\\pi)\n",
    "\\end{aligned}\n",
    "$$"
   ]
  },
  {
   "attachments": {},
   "cell_type": "markdown",
   "id": "9f02eaca",
   "metadata": {},
   "source": [
    "### Exercise 2 (Gaussian mixture model and MCMC)\n",
    "\n",
    "We have discussed how to estimate the Gaussian mixture model using EM in class. In this question, we explore the Bayesian finite Gaussian mixture model using MCMC. \n",
    "\n",
    "Recall the finite Gaussian mixture model with $K$ components:\n",
    "$$\n",
    "p(\\boldsymbol x | \\boldsymbol \\pi, \\boldsymbol \\mu, \\boldsymbol \\sigma^2) = \\prod_{i=1}^n \\sum_{k=1}^K \\pi_k N(x_i | \\mu_k, \\sigma_k^2),\n",
    "$$\n",
    "where $\\boldsymbol x = (x_1, \\dots, x_n)$, $\\boldsymbol \\pi = (\\pi_1, \\dots, \\pi_K)$ is a vector of mixing proportions, $\\boldsymbol \\mu = (\\mu_1, \\dots, \\mu_K)$ and $\\boldsymbol \\sigma^2 = (\\sigma_1^2, \\dots, \\sigma_K^2)$ are means and variances of Gaussian densities (here, $\\mu_k$ and $\\sigma_k$ are scalars). \n",
    "\n",
    "In Bayesian setting, we introduce a latent variable $\\boldsymbol z = (z_1, \\dots, z_n)$, $z_j = k$, $k = 1, \\dots, K$. Then, the model can be written as \n",
    "\n",
    "\\begin{align}\n",
    "& z_i | \\boldsymbol \\pi \\sim \\text{Multinomial}(\\pi_1, \\dots, \\pi_K),\\\\\n",
    "& x_i | z_i = k \\sim N(x_i | \\mu_k, \\sigma^2_k).\n",
    "\\end{align}\n",
    "\n",
    "We consider the following conjugate priors:\n",
    "\n",
    "\\begin{align}\n",
    "& \\boldsymbol \\pi \\sim \\text{Dirichlet}(\\alpha_1, \\dots, \\alpha_K),\\\\\n",
    "& \\mu_k|\\sigma_k^2 \\sim N(0, \\rho_k \\sigma_k^2),\\\\\n",
    "& \\sigma_k^{-2} \\sim \\text{Gamma}(a, b),\n",
    "\\end{align}\n",
    "\n",
    "where $\\alpha_1, \\dots, \\alpha_K, \\rho_k, a, b$ are some hyperparamters which are fixed. Their values can be chosen by the user. For Dirichlet distribution, please check its density function [here](https://en.wikipedia.org/wiki/Dirichlet_distribution).\n",
    "\n",
    "We will develop an MCMC algorithm for the model:\n",
    "\n",
    "1. Derive the posterior distribution $p(z_i = k |\\boldsymbol \\pi, \\boldsymbol \\mu, \\boldsymbol \\sigma^2, \\boldsymbol x)$ for each $i = 1, \\dots, n$, where $\\boldsymbol z_{-i} = (z_1, \\dots, z_{i-1}, z_{i+1}, \\dots, z_n)$ \n",
    "2. Derive the posterior distribution $p(\\boldsymbol \\pi | \\boldsymbol x, \\boldsymbol z)$ (hint: Dirichlet prior is conjugate with the multinomial distribution [see \"Table of conjugate distributions\"])(https://en.wikipedia.org/wiki/Conjugate_prior)\n",
    "3. Derive the posterior distribution $p(\\sigma_k^{-2} | \\boldsymbol x, \\mu_k, \\boldsymbol z)$\n",
    "for each $k = 1, \\dots, K$\n",
    "4. Derive the posterior distribution $p(\\mu_k | \\boldsymbol x, \\boldsymbol z, \\sigma_k^{2})$ for each $k = 1, \\dots, K$\n",
    "5. Write a function, call it ``MCMCGaussianFiniteMixture``, for the MCMC algorithm (choose $K = 3$).\n",
    "\n",
    "The structure of your function should look like this:\n",
    "\n",
    "      MCMCGaussianFiniteMixture(x, T = 5000, K = 3, put those hyperparameters here)\n",
    "            \n",
    "       # Note: T is the total iterations, K is the number of mixture components     \n",
    "       {\n",
    "            \n",
    "            Step 1: choose initial values for parameters to start the algorithm\n",
    "         \n",
    "            Step 2: for t = 1, ..., T (total iteration) # start MCMC iterations\n",
    "            \n",
    "                Step 2.1 draw z_1, ..., z_n \n",
    "             \n",
    "                Step 2.2 draw \\pi_1, ..., \\pi_K \n",
    "            \n",
    "                Step 2.3: for k = 1, ... K:\n",
    "                \n",
    "                    Step 2.3.1 draw \\sigma_k^{-2} (or \\sigma_k^2) \n",
    "                \n",
    "                    Step 2.3.2 draw \\mu_k \n",
    "                \n",
    "                End the for loop\n",
    "             \n",
    "            Collect values \n",
    "             \n",
    "            End the for loop\n",
    "                \n",
    "            Output: sample draws of mu, sigma, pi\n",
    "      }\n",
    "To obtain draws from the Dirichlet distribution, use the function [`np.random.dirichlet`](https://numpy.org/doc/stable/reference/random/generated/numpy.random.dirichlet.html)\n",
    "\n",
    "6. Fit the ``mouse.csv`` data with the function ``MCMCGaussianFiniteMixture`` you wrote (choose $K = 3$, set the total iteration to be $5,000$ or larger. For hyperparameters, you can choose $\\alpha_1, \\dots, \\alpha_K = 1, \\rho_k = 1$, $a = 2, b = 2$; other values are possible as well), \n",
    "    - a) plot the MCMC chains for $\\pi_k$, $\\mu_k$ and $\\sigma_k$ for all $k = 1, \\dots, K = 3$ (the title of each plot should include the corresponding variable name)\n",
    "    - b) how many draws would you consider as burnin?\n",
    "    - c) plot the ACF (autocorrelation) function for each chain after removing the burnin. \n",
    "    - d) remove those draws you considered as burnin, and obtain the posterior means and 95\\% credible intervals for each quantity. Compare those values with the MLE obtained using EM (i.e., fit the data using the [``GaussianMixture``](`https://scikit-learn.org/stable/modules/generated/sklearn.mixture.GaussianMixture.html#sklearn.mixture.GaussianMixture) package). Comment on your findings (e.g., are those values from EM close to their posterior means? Do the 95\\% credible intervals include those values from EM?)\n",
    "    - e) (bonus point: 2 points) Using the MCMC draws you obtained to classify the mouse data (i.e., predict the mouse data and determine the label each data point belongs to). Plot the mouse data with the predicted labels using ``red`` color for Left Ear, ``green`` color for Right Ear, and ``blue`` for Head. Compare the plot with the one from EM (you can find the plot in the Week 5-2's lecture notes)\n",
    "\n",
    "Note: ``BayesianGaussianMixture`` in sklearn [here](https://scikit-learn.org/stable/modules/generated/sklearn.mixture.BayesianGaussianMixture.html#sklearn.mixture.BayesianGaussianMixture) does not use the MCMC algorithm. It uses the so-called _variational Bayes method_, which has not been discussed yet. "
   ]
  },
  {
   "attachments": {},
   "cell_type": "markdown",
   "id": "4b538c26",
   "metadata": {},
   "source": [
    "### Exercise 3 (Kernel density estimation)\n",
    "\n",
    "The data set ``n90_pol.csv`` contains information on 90 British university students who participated in a psychological experiment designed to look for relationships between the size of different regions of the brain and political views.\n",
    "\n",
    "The variables ``amygdala`` and ``acc`` indicate the volume of two particular brain regions known to be involved in emotions and decision-making, the amygdala and the anterior cingulate cortex; more exactly, these are residuals from the predicted volume, after adjusting for height, sex, and similar anatomical variables. The variable ``orientation`` gives the subjects’ locations on a five-point scale from 1 (very conservative) to 5 (very liberal). orientation is an ordinal but not a metric variable, so scores of 1 and 2 are not necessarily as far apart as scores of 2 and 3.\n",
    "\n",
    "1. Estimate the probability density for the volume of the amygdala. Plot it and report the bandwidth. Repeat this for the volume of the ACC.\n",
    "2. Estimate a joint probability density for the volumes of the amygdala and the ACC. What are the bandwidths? Are they the same as the bandwidths you got in problem 1? Should they be?\n",
    "3. Plot the joint density. Does it suggest the two volumes are statistically independent? Should they be? You may use three dimensions, color, contours, etc., for your plot, but you will be graded, in part, on how easy to read it is. (Hint: Remember that the random variables $X$ and $Y$ are statistically independent when their joint pdf is the product of their marginal pdfs, $p(x, y) = p(x)p(y)$. Think about what the product of your estimated pdfs from question 1 would look like."
   ]
  },
  {
   "cell_type": "code",
   "execution_count": 34,
   "id": "a49b0b46",
   "metadata": {},
   "outputs": [
    {
     "data": {
      "text/html": [
       "<div>\n",
       "<style scoped>\n",
       "    .dataframe tbody tr th:only-of-type {\n",
       "        vertical-align: middle;\n",
       "    }\n",
       "\n",
       "    .dataframe tbody tr th {\n",
       "        vertical-align: top;\n",
       "    }\n",
       "\n",
       "    .dataframe thead th {\n",
       "        text-align: right;\n",
       "    }\n",
       "</style>\n",
       "<table border=\"1\" class=\"dataframe\">\n",
       "  <thead>\n",
       "    <tr style=\"text-align: right;\">\n",
       "      <th></th>\n",
       "      <th>subject</th>\n",
       "      <th>amygdala</th>\n",
       "      <th>acc</th>\n",
       "      <th>orientation</th>\n",
       "    </tr>\n",
       "  </thead>\n",
       "  <tbody>\n",
       "    <tr>\n",
       "      <th>0</th>\n",
       "      <td>1</td>\n",
       "      <td>0.0051</td>\n",
       "      <td>-0.0286</td>\n",
       "      <td>2</td>\n",
       "    </tr>\n",
       "    <tr>\n",
       "      <th>1</th>\n",
       "      <td>2</td>\n",
       "      <td>-0.0674</td>\n",
       "      <td>0.0007</td>\n",
       "      <td>3</td>\n",
       "    </tr>\n",
       "    <tr>\n",
       "      <th>2</th>\n",
       "      <td>3</td>\n",
       "      <td>-0.0257</td>\n",
       "      <td>-0.0110</td>\n",
       "      <td>3</td>\n",
       "    </tr>\n",
       "    <tr>\n",
       "      <th>3</th>\n",
       "      <td>4</td>\n",
       "      <td>0.0504</td>\n",
       "      <td>-0.0167</td>\n",
       "      <td>2</td>\n",
       "    </tr>\n",
       "    <tr>\n",
       "      <th>4</th>\n",
       "      <td>5</td>\n",
       "      <td>0.0125</td>\n",
       "      <td>-0.0005</td>\n",
       "      <td>5</td>\n",
       "    </tr>\n",
       "    <tr>\n",
       "      <th>...</th>\n",
       "      <td>...</td>\n",
       "      <td>...</td>\n",
       "      <td>...</td>\n",
       "      <td>...</td>\n",
       "    </tr>\n",
       "    <tr>\n",
       "      <th>85</th>\n",
       "      <td>86</td>\n",
       "      <td>0.0174</td>\n",
       "      <td>-0.0242</td>\n",
       "      <td>2</td>\n",
       "    </tr>\n",
       "    <tr>\n",
       "      <th>86</th>\n",
       "      <td>87</td>\n",
       "      <td>0.0251</td>\n",
       "      <td>-0.0087</td>\n",
       "      <td>3</td>\n",
       "    </tr>\n",
       "    <tr>\n",
       "      <th>87</th>\n",
       "      <td>88</td>\n",
       "      <td>0.0676</td>\n",
       "      <td>0.0120</td>\n",
       "      <td>2</td>\n",
       "    </tr>\n",
       "    <tr>\n",
       "      <th>88</th>\n",
       "      <td>89</td>\n",
       "      <td>-0.0097</td>\n",
       "      <td>-0.0239</td>\n",
       "      <td>3</td>\n",
       "    </tr>\n",
       "    <tr>\n",
       "      <th>89</th>\n",
       "      <td>90</td>\n",
       "      <td>0.0374</td>\n",
       "      <td>0.0502</td>\n",
       "      <td>3</td>\n",
       "    </tr>\n",
       "  </tbody>\n",
       "</table>\n",
       "<p>90 rows × 4 columns</p>\n",
       "</div>"
      ],
      "text/plain": [
       "    subject  amygdala     acc  orientation\n",
       "0         1    0.0051 -0.0286            2\n",
       "1         2   -0.0674  0.0007            3\n",
       "2         3   -0.0257 -0.0110            3\n",
       "3         4    0.0504 -0.0167            2\n",
       "4         5    0.0125 -0.0005            5\n",
       "..      ...       ...     ...          ...\n",
       "85       86    0.0174 -0.0242            2\n",
       "86       87    0.0251 -0.0087            3\n",
       "87       88    0.0676  0.0120            2\n",
       "88       89   -0.0097 -0.0239            3\n",
       "89       90    0.0374  0.0502            3\n",
       "\n",
       "[90 rows x 4 columns]"
      ]
     },
     "metadata": {},
     "output_type": "display_data"
    },
    {
     "data": {
      "text/plain": [
       "array([12.19781554,  2.70213481,  7.68356675,  3.44448479, 11.03490713,\n",
       "       12.60454171,  7.54193218, 12.57932449, 11.43798903,  2.67465351,\n",
       "        3.81388624,  1.66957433, 12.5221318 , 11.74789421, 12.02985469,\n",
       "        7.7528476 ,  5.70870721, 12.47813876, 12.47813876,  3.79260877,\n",
       "       12.42605667, 11.90162535,  3.67591483,  8.07699268, 10.77466016,\n",
       "       11.07070238, 11.96010531, 10.16116555,  3.77428528, 12.53381016,\n",
       "        4.88587911,  4.04302659,  1.61323491,  9.58962624, 10.32554169,\n",
       "        6.33905279, 12.38862504,  8.34598165,  8.71478225,  3.84088187,\n",
       "       11.63228635,  9.18855761, 10.17941665,  7.20715352, 12.42605667,\n",
       "        8.97565612, 11.06646711, 12.22701322,  6.94060474, 12.398562  ,\n",
       "       11.97397281, 11.15978304,  7.09443158,  8.1140476 , 11.31763454,\n",
       "        8.71478225, 12.24488676,  3.75648315, 12.39956902, 12.61569282,\n",
       "        5.84134239, 12.32446606, 12.16102937,  7.82623488,  8.50625022,\n",
       "       12.53978508,  3.40086792,  8.09690171, 12.59957911, 11.59241292,\n",
       "        7.29008954, 12.40828129, 12.60101378,  8.52535839,  8.40411473,\n",
       "       11.5721775 ,  3.90915262,  3.23732196,  8.03705373,  6.65078144,\n",
       "       11.3399079 ,  3.7444858 ,  5.48892257,  8.15639009,  1.11126412,\n",
       "       10.14291818,  8.73357019,  1.80721617, 11.85725938,  6.15145847])"
      ]
     },
     "metadata": {},
     "output_type": "display_data"
    },
    {
     "data": {
      "application/vnd.plotly.v1+json": {
       "config": {
        "plotlyServerURL": "https://plot.ly"
       },
       "data": [
        {
         "hovertemplate": "x=%{x}<br>y=%{y}<extra></extra>",
         "legendgroup": "",
         "marker": {
          "color": "#636efa",
          "symbol": "circle"
         },
         "mode": "markers",
         "name": "",
         "orientation": "v",
         "showlegend": false,
         "type": "scatter",
         "x": [
          0.0051,
          -0.0674,
          -0.0257,
          0.0504,
          0.0125,
          -0.0024,
          -0.0262,
          -0.0032,
          0.0102,
          -0.0676,
          -0.0553,
          0.0705,
          0.0016,
          -0.0103,
          0.0064,
          0.0301,
          -0.0334,
          -0.0049,
          -0.0049,
          -0.0558,
          0.0029,
          0.0073,
          -0.058,
          0.0285,
          -0.0147,
          0.0123,
          -0.0091,
          0.0173,
          -0.0562,
          -0.0041,
          0.043,
          -0.0475,
          0.0717,
          -0.0191,
          0.0164,
          -0.0307,
          -0.0059,
          -0.0234,
          0.0252,
          -0.0546,
          -0.0109,
          -0.0205,
          0.0172,
          -0.0274,
          0.0029,
          0.0238,
          -0.0135,
          -0.0073,
          0.0339,
          -0.0058,
          0.0068,
          -0.0131,
          0.0332,
          -0.0242,
          0.0109,
          0.0252,
          0.0047,
          0.0486,
          0.0032,
          -0.0012,
          -0.0328,
          -0.0065,
          0.0054,
          -0.0252,
          0.0263,
          0.0013,
          -0.0615,
          0.0284,
          -0.0026,
          -0.0111,
          -0.0271,
          -0.0057,
          -0.0002,
          0.0262,
          -0.0232,
          0.0094,
          -0.0524,
          0.0517,
          0.0287,
          0.0352,
          -0.0123,
          -0.0568,
          0.0403,
          0.0281,
          0.0812,
          0.0174,
          0.0251,
          0.0676,
          -0.0097,
          0.0374
         ],
         "xaxis": "x",
         "y": [
          12.19781554455029,
          2.7021348117349215,
          7.683566750388964,
          3.444484794723585,
          11.034907131340663,
          12.604541710508206,
          7.541932178680348,
          12.579324487225247,
          11.43798903231181,
          2.6746535054434246,
          3.8138862401667417,
          1.6695743279920015,
          12.522131796877906,
          11.74789421327939,
          12.029854694606314,
          7.752847597915442,
          5.708707212248952,
          12.478138764014401,
          12.478138764014401,
          3.792608774371762,
          12.426056665360575,
          11.901625354351813,
          3.675914828023519,
          8.076992681562587,
          10.774660164791072,
          11.070702383193378,
          11.960105310678657,
          10.161165547807409,
          3.7742852784381484,
          12.533810161526311,
          4.885879114545757,
          4.043026585645439,
          1.6132349089887263,
          9.589626243628235,
          10.325541688449219,
          6.339052786635422,
          12.388625040134027,
          8.345981652697292,
          8.714782250470973,
          3.840881867630468,
          11.63228635076728,
          9.188557607010145,
          10.179416653073618,
          7.207153519296049,
          12.426056665360575,
          8.975656123258773,
          11.066467107818912,
          12.227013224532607,
          6.940604743311619,
          12.39856199516619,
          11.97397280962445,
          11.159783041891083,
          7.094431580218791,
          8.11404759635838,
          11.317634538630388,
          8.714782250470973,
          12.244886758477158,
          3.756483145023214,
          12.399569016540418,
          12.61569282387499,
          5.8413423869998855,
          12.324466061406246,
          12.161029368662309,
          7.8262348752767155,
          8.506250222205567,
          12.539785084489012,
          3.4008679151328045,
          8.096901714096699,
          12.599579111263534,
          11.59241292125596,
          7.290089542328388,
          12.408281292095161,
          12.601013784846097,
          8.525358389181598,
          8.404114728221446,
          11.572177498720862,
          3.90915262045829,
          3.2373219587099253,
          8.037053731036602,
          6.650781443180413,
          11.339907898225015,
          3.744485801625225,
          5.488922574824107,
          8.156390092556533,
          1.1112641181030243,
          10.142918179985458,
          8.733570191926889,
          1.8072161695541662,
          11.857259377546274,
          6.1514584670584025
         ],
         "yaxis": "y"
        },
        {
         "alignmentgroup": "True",
         "bingroup": "x",
         "hovertemplate": "x=%{x}<br>count=%{y}<extra></extra>",
         "legendgroup": "",
         "marker": {
          "color": "#636efa"
         },
         "name": "",
         "offsetgroup": "",
         "opacity": 0.5,
         "showlegend": false,
         "type": "histogram",
         "x": [
          0.0051,
          -0.0674,
          -0.0257,
          0.0504,
          0.0125,
          -0.0024,
          -0.0262,
          -0.0032,
          0.0102,
          -0.0676,
          -0.0553,
          0.0705,
          0.0016,
          -0.0103,
          0.0064,
          0.0301,
          -0.0334,
          -0.0049,
          -0.0049,
          -0.0558,
          0.0029,
          0.0073,
          -0.058,
          0.0285,
          -0.0147,
          0.0123,
          -0.0091,
          0.0173,
          -0.0562,
          -0.0041,
          0.043,
          -0.0475,
          0.0717,
          -0.0191,
          0.0164,
          -0.0307,
          -0.0059,
          -0.0234,
          0.0252,
          -0.0546,
          -0.0109,
          -0.0205,
          0.0172,
          -0.0274,
          0.0029,
          0.0238,
          -0.0135,
          -0.0073,
          0.0339,
          -0.0058,
          0.0068,
          -0.0131,
          0.0332,
          -0.0242,
          0.0109,
          0.0252,
          0.0047,
          0.0486,
          0.0032,
          -0.0012,
          -0.0328,
          -0.0065,
          0.0054,
          -0.0252,
          0.0263,
          0.0013,
          -0.0615,
          0.0284,
          -0.0026,
          -0.0111,
          -0.0271,
          -0.0057,
          -0.0002,
          0.0262,
          -0.0232,
          0.0094,
          -0.0524,
          0.0517,
          0.0287,
          0.0352,
          -0.0123,
          -0.0568,
          0.0403,
          0.0281,
          0.0812,
          0.0174,
          0.0251,
          0.0676,
          -0.0097,
          0.0374
         ],
         "xaxis": "x2",
         "yaxis": "y2"
        }
       ],
       "layout": {
        "barmode": "overlay",
        "legend": {
         "tracegroupgap": 0
        },
        "margin": {
         "t": 60
        },
        "template": {
         "data": {
          "bar": [
           {
            "error_x": {
             "color": "#2a3f5f"
            },
            "error_y": {
             "color": "#2a3f5f"
            },
            "marker": {
             "line": {
              "color": "#E5ECF6",
              "width": 0.5
             },
             "pattern": {
              "fillmode": "overlay",
              "size": 10,
              "solidity": 0.2
             }
            },
            "type": "bar"
           }
          ],
          "barpolar": [
           {
            "marker": {
             "line": {
              "color": "#E5ECF6",
              "width": 0.5
             },
             "pattern": {
              "fillmode": "overlay",
              "size": 10,
              "solidity": 0.2
             }
            },
            "type": "barpolar"
           }
          ],
          "carpet": [
           {
            "aaxis": {
             "endlinecolor": "#2a3f5f",
             "gridcolor": "white",
             "linecolor": "white",
             "minorgridcolor": "white",
             "startlinecolor": "#2a3f5f"
            },
            "baxis": {
             "endlinecolor": "#2a3f5f",
             "gridcolor": "white",
             "linecolor": "white",
             "minorgridcolor": "white",
             "startlinecolor": "#2a3f5f"
            },
            "type": "carpet"
           }
          ],
          "choropleth": [
           {
            "colorbar": {
             "outlinewidth": 0,
             "ticks": ""
            },
            "type": "choropleth"
           }
          ],
          "contour": [
           {
            "colorbar": {
             "outlinewidth": 0,
             "ticks": ""
            },
            "colorscale": [
             [
              0,
              "#0d0887"
             ],
             [
              0.1111111111111111,
              "#46039f"
             ],
             [
              0.2222222222222222,
              "#7201a8"
             ],
             [
              0.3333333333333333,
              "#9c179e"
             ],
             [
              0.4444444444444444,
              "#bd3786"
             ],
             [
              0.5555555555555556,
              "#d8576b"
             ],
             [
              0.6666666666666666,
              "#ed7953"
             ],
             [
              0.7777777777777778,
              "#fb9f3a"
             ],
             [
              0.8888888888888888,
              "#fdca26"
             ],
             [
              1,
              "#f0f921"
             ]
            ],
            "type": "contour"
           }
          ],
          "contourcarpet": [
           {
            "colorbar": {
             "outlinewidth": 0,
             "ticks": ""
            },
            "type": "contourcarpet"
           }
          ],
          "heatmap": [
           {
            "colorbar": {
             "outlinewidth": 0,
             "ticks": ""
            },
            "colorscale": [
             [
              0,
              "#0d0887"
             ],
             [
              0.1111111111111111,
              "#46039f"
             ],
             [
              0.2222222222222222,
              "#7201a8"
             ],
             [
              0.3333333333333333,
              "#9c179e"
             ],
             [
              0.4444444444444444,
              "#bd3786"
             ],
             [
              0.5555555555555556,
              "#d8576b"
             ],
             [
              0.6666666666666666,
              "#ed7953"
             ],
             [
              0.7777777777777778,
              "#fb9f3a"
             ],
             [
              0.8888888888888888,
              "#fdca26"
             ],
             [
              1,
              "#f0f921"
             ]
            ],
            "type": "heatmap"
           }
          ],
          "heatmapgl": [
           {
            "colorbar": {
             "outlinewidth": 0,
             "ticks": ""
            },
            "colorscale": [
             [
              0,
              "#0d0887"
             ],
             [
              0.1111111111111111,
              "#46039f"
             ],
             [
              0.2222222222222222,
              "#7201a8"
             ],
             [
              0.3333333333333333,
              "#9c179e"
             ],
             [
              0.4444444444444444,
              "#bd3786"
             ],
             [
              0.5555555555555556,
              "#d8576b"
             ],
             [
              0.6666666666666666,
              "#ed7953"
             ],
             [
              0.7777777777777778,
              "#fb9f3a"
             ],
             [
              0.8888888888888888,
              "#fdca26"
             ],
             [
              1,
              "#f0f921"
             ]
            ],
            "type": "heatmapgl"
           }
          ],
          "histogram": [
           {
            "marker": {
             "pattern": {
              "fillmode": "overlay",
              "size": 10,
              "solidity": 0.2
             }
            },
            "type": "histogram"
           }
          ],
          "histogram2d": [
           {
            "colorbar": {
             "outlinewidth": 0,
             "ticks": ""
            },
            "colorscale": [
             [
              0,
              "#0d0887"
             ],
             [
              0.1111111111111111,
              "#46039f"
             ],
             [
              0.2222222222222222,
              "#7201a8"
             ],
             [
              0.3333333333333333,
              "#9c179e"
             ],
             [
              0.4444444444444444,
              "#bd3786"
             ],
             [
              0.5555555555555556,
              "#d8576b"
             ],
             [
              0.6666666666666666,
              "#ed7953"
             ],
             [
              0.7777777777777778,
              "#fb9f3a"
             ],
             [
              0.8888888888888888,
              "#fdca26"
             ],
             [
              1,
              "#f0f921"
             ]
            ],
            "type": "histogram2d"
           }
          ],
          "histogram2dcontour": [
           {
            "colorbar": {
             "outlinewidth": 0,
             "ticks": ""
            },
            "colorscale": [
             [
              0,
              "#0d0887"
             ],
             [
              0.1111111111111111,
              "#46039f"
             ],
             [
              0.2222222222222222,
              "#7201a8"
             ],
             [
              0.3333333333333333,
              "#9c179e"
             ],
             [
              0.4444444444444444,
              "#bd3786"
             ],
             [
              0.5555555555555556,
              "#d8576b"
             ],
             [
              0.6666666666666666,
              "#ed7953"
             ],
             [
              0.7777777777777778,
              "#fb9f3a"
             ],
             [
              0.8888888888888888,
              "#fdca26"
             ],
             [
              1,
              "#f0f921"
             ]
            ],
            "type": "histogram2dcontour"
           }
          ],
          "mesh3d": [
           {
            "colorbar": {
             "outlinewidth": 0,
             "ticks": ""
            },
            "type": "mesh3d"
           }
          ],
          "parcoords": [
           {
            "line": {
             "colorbar": {
              "outlinewidth": 0,
              "ticks": ""
             }
            },
            "type": "parcoords"
           }
          ],
          "pie": [
           {
            "automargin": true,
            "type": "pie"
           }
          ],
          "scatter": [
           {
            "fillpattern": {
             "fillmode": "overlay",
             "size": 10,
             "solidity": 0.2
            },
            "type": "scatter"
           }
          ],
          "scatter3d": [
           {
            "line": {
             "colorbar": {
              "outlinewidth": 0,
              "ticks": ""
             }
            },
            "marker": {
             "colorbar": {
              "outlinewidth": 0,
              "ticks": ""
             }
            },
            "type": "scatter3d"
           }
          ],
          "scattercarpet": [
           {
            "marker": {
             "colorbar": {
              "outlinewidth": 0,
              "ticks": ""
             }
            },
            "type": "scattercarpet"
           }
          ],
          "scattergeo": [
           {
            "marker": {
             "colorbar": {
              "outlinewidth": 0,
              "ticks": ""
             }
            },
            "type": "scattergeo"
           }
          ],
          "scattergl": [
           {
            "marker": {
             "colorbar": {
              "outlinewidth": 0,
              "ticks": ""
             }
            },
            "type": "scattergl"
           }
          ],
          "scattermapbox": [
           {
            "marker": {
             "colorbar": {
              "outlinewidth": 0,
              "ticks": ""
             }
            },
            "type": "scattermapbox"
           }
          ],
          "scatterpolar": [
           {
            "marker": {
             "colorbar": {
              "outlinewidth": 0,
              "ticks": ""
             }
            },
            "type": "scatterpolar"
           }
          ],
          "scatterpolargl": [
           {
            "marker": {
             "colorbar": {
              "outlinewidth": 0,
              "ticks": ""
             }
            },
            "type": "scatterpolargl"
           }
          ],
          "scatterternary": [
           {
            "marker": {
             "colorbar": {
              "outlinewidth": 0,
              "ticks": ""
             }
            },
            "type": "scatterternary"
           }
          ],
          "surface": [
           {
            "colorbar": {
             "outlinewidth": 0,
             "ticks": ""
            },
            "colorscale": [
             [
              0,
              "#0d0887"
             ],
             [
              0.1111111111111111,
              "#46039f"
             ],
             [
              0.2222222222222222,
              "#7201a8"
             ],
             [
              0.3333333333333333,
              "#9c179e"
             ],
             [
              0.4444444444444444,
              "#bd3786"
             ],
             [
              0.5555555555555556,
              "#d8576b"
             ],
             [
              0.6666666666666666,
              "#ed7953"
             ],
             [
              0.7777777777777778,
              "#fb9f3a"
             ],
             [
              0.8888888888888888,
              "#fdca26"
             ],
             [
              1,
              "#f0f921"
             ]
            ],
            "type": "surface"
           }
          ],
          "table": [
           {
            "cells": {
             "fill": {
              "color": "#EBF0F8"
             },
             "line": {
              "color": "white"
             }
            },
            "header": {
             "fill": {
              "color": "#C8D4E3"
             },
             "line": {
              "color": "white"
             }
            },
            "type": "table"
           }
          ]
         },
         "layout": {
          "annotationdefaults": {
           "arrowcolor": "#2a3f5f",
           "arrowhead": 0,
           "arrowwidth": 1
          },
          "autotypenumbers": "strict",
          "coloraxis": {
           "colorbar": {
            "outlinewidth": 0,
            "ticks": ""
           }
          },
          "colorscale": {
           "diverging": [
            [
             0,
             "#8e0152"
            ],
            [
             0.1,
             "#c51b7d"
            ],
            [
             0.2,
             "#de77ae"
            ],
            [
             0.3,
             "#f1b6da"
            ],
            [
             0.4,
             "#fde0ef"
            ],
            [
             0.5,
             "#f7f7f7"
            ],
            [
             0.6,
             "#e6f5d0"
            ],
            [
             0.7,
             "#b8e186"
            ],
            [
             0.8,
             "#7fbc41"
            ],
            [
             0.9,
             "#4d9221"
            ],
            [
             1,
             "#276419"
            ]
           ],
           "sequential": [
            [
             0,
             "#0d0887"
            ],
            [
             0.1111111111111111,
             "#46039f"
            ],
            [
             0.2222222222222222,
             "#7201a8"
            ],
            [
             0.3333333333333333,
             "#9c179e"
            ],
            [
             0.4444444444444444,
             "#bd3786"
            ],
            [
             0.5555555555555556,
             "#d8576b"
            ],
            [
             0.6666666666666666,
             "#ed7953"
            ],
            [
             0.7777777777777778,
             "#fb9f3a"
            ],
            [
             0.8888888888888888,
             "#fdca26"
            ],
            [
             1,
             "#f0f921"
            ]
           ],
           "sequentialminus": [
            [
             0,
             "#0d0887"
            ],
            [
             0.1111111111111111,
             "#46039f"
            ],
            [
             0.2222222222222222,
             "#7201a8"
            ],
            [
             0.3333333333333333,
             "#9c179e"
            ],
            [
             0.4444444444444444,
             "#bd3786"
            ],
            [
             0.5555555555555556,
             "#d8576b"
            ],
            [
             0.6666666666666666,
             "#ed7953"
            ],
            [
             0.7777777777777778,
             "#fb9f3a"
            ],
            [
             0.8888888888888888,
             "#fdca26"
            ],
            [
             1,
             "#f0f921"
            ]
           ]
          },
          "colorway": [
           "#636efa",
           "#EF553B",
           "#00cc96",
           "#ab63fa",
           "#FFA15A",
           "#19d3f3",
           "#FF6692",
           "#B6E880",
           "#FF97FF",
           "#FECB52"
          ],
          "font": {
           "color": "#2a3f5f"
          },
          "geo": {
           "bgcolor": "white",
           "lakecolor": "white",
           "landcolor": "#E5ECF6",
           "showlakes": true,
           "showland": true,
           "subunitcolor": "white"
          },
          "hoverlabel": {
           "align": "left"
          },
          "hovermode": "closest",
          "mapbox": {
           "style": "light"
          },
          "paper_bgcolor": "white",
          "plot_bgcolor": "#E5ECF6",
          "polar": {
           "angularaxis": {
            "gridcolor": "white",
            "linecolor": "white",
            "ticks": ""
           },
           "bgcolor": "#E5ECF6",
           "radialaxis": {
            "gridcolor": "white",
            "linecolor": "white",
            "ticks": ""
           }
          },
          "scene": {
           "xaxis": {
            "backgroundcolor": "#E5ECF6",
            "gridcolor": "white",
            "gridwidth": 2,
            "linecolor": "white",
            "showbackground": true,
            "ticks": "",
            "zerolinecolor": "white"
           },
           "yaxis": {
            "backgroundcolor": "#E5ECF6",
            "gridcolor": "white",
            "gridwidth": 2,
            "linecolor": "white",
            "showbackground": true,
            "ticks": "",
            "zerolinecolor": "white"
           },
           "zaxis": {
            "backgroundcolor": "#E5ECF6",
            "gridcolor": "white",
            "gridwidth": 2,
            "linecolor": "white",
            "showbackground": true,
            "ticks": "",
            "zerolinecolor": "white"
           }
          },
          "shapedefaults": {
           "line": {
            "color": "#2a3f5f"
           }
          },
          "ternary": {
           "aaxis": {
            "gridcolor": "white",
            "linecolor": "white",
            "ticks": ""
           },
           "baxis": {
            "gridcolor": "white",
            "linecolor": "white",
            "ticks": ""
           },
           "bgcolor": "#E5ECF6",
           "caxis": {
            "gridcolor": "white",
            "linecolor": "white",
            "ticks": ""
           }
          },
          "title": {
           "x": 0.05
          },
          "xaxis": {
           "automargin": true,
           "gridcolor": "white",
           "linecolor": "white",
           "ticks": "",
           "title": {
            "standoff": 15
           },
           "zerolinecolor": "white",
           "zerolinewidth": 2
          },
          "yaxis": {
           "automargin": true,
           "gridcolor": "white",
           "linecolor": "white",
           "ticks": "",
           "title": {
            "standoff": 15
           },
           "zerolinecolor": "white",
           "zerolinewidth": 2
          }
         }
        },
        "xaxis": {
         "anchor": "y",
         "domain": [
          0,
          1
         ],
         "title": {
          "text": "x"
         }
        },
        "xaxis2": {
         "anchor": "y2",
         "domain": [
          0,
          1
         ],
         "matches": "x",
         "showgrid": true,
         "showticklabels": false
        },
        "yaxis": {
         "anchor": "x",
         "domain": [
          0,
          0.7326
         ],
         "title": {
          "text": "y"
         }
        },
        "yaxis2": {
         "anchor": "x2",
         "domain": [
          0.7426,
          1
         ],
         "matches": "y2",
         "showgrid": true,
         "showline": false,
         "showticklabels": false,
         "ticks": ""
        }
       }
      }
     },
     "metadata": {},
     "output_type": "display_data"
    },
    {
     "name": "stdout",
     "output_type": "stream",
     "text": [
      "The bandwidth is  0.013183004308375648\n"
     ]
    }
   ],
   "source": [
    "# 1\n",
    "import pandas as pd\n",
    "import numpy as np\n",
    "from IPython.display import display\n",
    "import scipy.stats as ss\n",
    "import plotly.express as px \n",
    "\n",
    "oi_brits = pd.read_csv(\"n90_pol.csv\")\n",
    "display(oi_brits)\n",
    "display(ss.gaussian_kde(oi_brits.amygdala).pdf(oi_brits.amygdala))\n",
    "ss.gaussian_kde(oi_brits.amygdala).pdf(oi_brits.amygdala)\n",
    "display(px.scatter(x = oi_brits.amygdala, y = ss.gaussian_kde(oi_brits.amygdala).pdf(oi_brits.amygdala), marginal_x = \"histogram\"))\n",
    "print(\"The bandwidth is \", np.std(oi_brits.amygdala) * ss.gaussian_kde(oi_brits.amygdala).factor)"
   ]
  },
  {
   "cell_type": "code",
   "execution_count": 36,
   "id": "c86c1c3d",
   "metadata": {},
   "outputs": [
    {
     "data": {
      "text/plain": [
       "array([1.55592973e+01, 9.73042096e-04, 1.07941930e+01, 2.87869209e+00,\n",
       "       1.18306724e+01, 1.99726092e+01, 1.04468712e+01, 2.03210456e+01,\n",
       "       1.28365274e+01, 8.90904886e-04, 7.85206738e-02, 1.88843695e-01,\n",
       "       1.77286979e+01, 2.07381334e+01, 1.47985372e+01, 5.22115442e+00,\n",
       "       5.63435870e+00, 2.08886723e+01, 2.08886723e+01, 6.77737741e-02,\n",
       "       1.69156862e+01, 1.42970616e+01, 3.43284976e-02, 5.70636719e+00,\n",
       "       1.85533730e+01, 1.19138632e+01, 2.10422533e+01, 9.95568766e+00,\n",
       "       6.01285848e-02, 2.06532397e+01, 3.36745804e+00, 5.67171055e-01,\n",
       "       1.38801349e-01, 1.54838379e+01, 1.02994084e+01, 7.36955838e+00,\n",
       "       2.10956882e+01, 1.24031026e+01, 6.87204741e+00, 9.60594372e-02,\n",
       "       2.05320044e+01, 1.44709591e+01, 9.99391830e+00, 9.61625855e+00,\n",
       "       1.69156862e+01, 7.41189335e+00, 1.92830410e+01, 2.12097390e+01,\n",
       "       4.32255272e+00, 2.10795618e+01, 1.45729334e+01, 1.95078801e+01,\n",
       "       4.46109512e+00, 1.18410156e+01, 1.25179743e+01, 6.87204741e+00,\n",
       "       1.58007878e+01, 3.04646008e+00, 1.67278219e+01, 1.93714835e+01,\n",
       "       6.00695038e+00, 2.11703629e+01, 1.53802862e+01, 1.11422633e+01,\n",
       "       6.46316271e+00, 1.79143509e+01, 1.03642868e-02, 5.73865350e+00,\n",
       "       2.00640243e+01, 2.04557408e+01, 9.82349997e+00, 2.10623995e+01,\n",
       "       1.88140544e+01, 6.49962537e+00, 1.25441292e+01, 1.32159729e+01,\n",
       "       1.75198526e-01, 2.72708399e+00, 5.64246024e+00, 4.09578109e+00,\n",
       "       1.99247634e+01, 5.00823442e-02, 3.52766681e+00, 5.83681667e+00,\n",
       "       6.42947441e-03, 9.91743888e+00, 6.90998622e+00, 3.69901016e-01,\n",
       "       2.09087611e+01, 3.79460104e+00])"
      ]
     },
     "metadata": {},
     "output_type": "display_data"
    },
    {
     "data": {
      "application/vnd.plotly.v1+json": {
       "config": {
        "plotlyServerURL": "https://plot.ly"
       },
       "data": [
        {
         "hovertemplate": "x=%{x}<br>y=%{y}<extra></extra>",
         "legendgroup": "",
         "marker": {
          "color": "#636efa",
          "symbol": "circle"
         },
         "mode": "markers",
         "name": "",
         "orientation": "v",
         "showlegend": false,
         "type": "scatter",
         "x": [
          -0.0286,
          0.0007,
          -0.011,
          -0.0167,
          -0.0005,
          0.0266,
          -0.0052,
          0.0099,
          0.0124,
          0.0217,
          -0.0018,
          -0.0224,
          -0.027,
          -0.0122,
          -0.0085,
          0.0031,
          -0.0218,
          0.019,
          -0.0054,
          -0.0107,
          0.0334,
          0.0194,
          0.0205,
          -0.0105,
          0.0559,
          -0.0161,
          0.0202,
          -0.0037,
          0.0037,
          -0.0105,
          0.0215,
          0.0348,
          -0.0042,
          -0.0216,
          -0.0023,
          -0.006,
          0.0125,
          -0.0015,
          -0.0294,
          -0.0122,
          -0.0377,
          0.0481,
          -0.0005,
          -0.0056,
          -0.0278,
          -0.0095,
          0.0501,
          -0.0111,
          0.0004,
          0.0065,
          0.0044,
          -0.0099,
          0.008,
          -0.0127,
          -0.0255,
          0.0178,
          0.0073,
          -0.0104,
          0.0079,
          0.0074,
          0.023,
          0.0137,
          -0.0035,
          -0.0065,
          -0.0005,
          0.0363,
          0.0005,
          -0.0107,
          -0.0145,
          -0.0101,
          -0.0076,
          0.0106,
          -0.0071,
          0.0183,
          -0.0241,
          -0.0236,
          -0.0232,
          -0.0124,
          0.0352,
          -0.0031,
          -0.0186,
          0.0462,
          -0.031,
          -0.0111,
          -0.0148,
          -0.0242,
          -0.0087,
          0.012,
          -0.0239,
          0.0502
         ],
         "xaxis": "x",
         "y": [
          8.79082074677208,
          18.281017224260225,
          20.494333244643514,
          17.204969170082258,
          18.9857266557803,
          6.354727270678858,
          20.961294353972853,
          12.976828035373124,
          11.872181176496397,
          8.241108410985541,
          19.68265539593918,
          13.110498479014158,
          9.892644901747152,
          19.973541638839496,
          21.137375906860036,
          16.790400893021832,
          13.537799420002147,
          9.301526224862048,
          21.00476598657192,
          20.60454239786537,
          4.420302448379271,
          9.146063794772983,
          8.715277903541505,
          20.67327677357361,
          2.080052440203922,
          17.62217644860027,
          8.83321192859423,
          20.51395079308502,
          16.415947772669483,
          20.67327677357361,
          8.320325410280253,
          4.161454341245018,
          20.685877198834703,
          13.680725027682227,
          19.92588550533813,
          21.11077256010196,
          11.830672436775906,
          19.52953099572033,
          8.244878694060809,
          19.973541638839496,
          3.2922847776058575,
          3.085083589056298,
          18.9857266557803,
          21.044208159817718,
          9.34042828621806,
          20.95745418190506,
          2.909979509635545,
          20.455740842851828,
          18.461323847792123,
          14.741737303095215,
          15.983794712405055,
          20.855938567998848,
          13.922687331621386,
          19.722072009578344,
          10.933327608963866,
          9.764219726102995,
          14.297061601848913,
          20.70619426687119,
          13.975311223254291,
          14.242725517702814,
          7.7264128095091325,
          11.34444977015611,
          20.439223074054375,
          21.170362885030606,
          18.9857266557803,
          3.9329998428115664,
          18.401481540149625,
          20.60454239786537,
          18.680089470915394,
          20.799042431524498,
          21.206477565892392,
          12.653028607039015,
          21.20642932236776,
          9.572054895346726,
          11.911111802859947,
          12.262286853222388,
          12.544129224073771,
          19.875214505720457,
          4.095781092781024,
          20.280079661273945,
          15.845860005556196,
          3.206797767192202,
          7.1703694039155055,
          20.455740842851828,
          18.489337571834028,
          11.84101563314669,
          21.10999044437932,
          12.03999218437617,
          12.05143945421692,
          2.899703172108845
         ],
         "yaxis": "y"
        },
        {
         "alignmentgroup": "True",
         "bingroup": "x",
         "hovertemplate": "x=%{x}<br>count=%{y}<extra></extra>",
         "legendgroup": "",
         "marker": {
          "color": "#636efa"
         },
         "name": "",
         "offsetgroup": "",
         "opacity": 0.5,
         "showlegend": false,
         "type": "histogram",
         "x": [
          -0.0286,
          0.0007,
          -0.011,
          -0.0167,
          -0.0005,
          0.0266,
          -0.0052,
          0.0099,
          0.0124,
          0.0217,
          -0.0018,
          -0.0224,
          -0.027,
          -0.0122,
          -0.0085,
          0.0031,
          -0.0218,
          0.019,
          -0.0054,
          -0.0107,
          0.0334,
          0.0194,
          0.0205,
          -0.0105,
          0.0559,
          -0.0161,
          0.0202,
          -0.0037,
          0.0037,
          -0.0105,
          0.0215,
          0.0348,
          -0.0042,
          -0.0216,
          -0.0023,
          -0.006,
          0.0125,
          -0.0015,
          -0.0294,
          -0.0122,
          -0.0377,
          0.0481,
          -0.0005,
          -0.0056,
          -0.0278,
          -0.0095,
          0.0501,
          -0.0111,
          0.0004,
          0.0065,
          0.0044,
          -0.0099,
          0.008,
          -0.0127,
          -0.0255,
          0.0178,
          0.0073,
          -0.0104,
          0.0079,
          0.0074,
          0.023,
          0.0137,
          -0.0035,
          -0.0065,
          -0.0005,
          0.0363,
          0.0005,
          -0.0107,
          -0.0145,
          -0.0101,
          -0.0076,
          0.0106,
          -0.0071,
          0.0183,
          -0.0241,
          -0.0236,
          -0.0232,
          -0.0124,
          0.0352,
          -0.0031,
          -0.0186,
          0.0462,
          -0.031,
          -0.0111,
          -0.0148,
          -0.0242,
          -0.0087,
          0.012,
          -0.0239,
          0.0502
         ],
         "xaxis": "x2",
         "yaxis": "y2"
        }
       ],
       "layout": {
        "barmode": "overlay",
        "legend": {
         "tracegroupgap": 0
        },
        "margin": {
         "t": 60
        },
        "template": {
         "data": {
          "bar": [
           {
            "error_x": {
             "color": "#2a3f5f"
            },
            "error_y": {
             "color": "#2a3f5f"
            },
            "marker": {
             "line": {
              "color": "#E5ECF6",
              "width": 0.5
             },
             "pattern": {
              "fillmode": "overlay",
              "size": 10,
              "solidity": 0.2
             }
            },
            "type": "bar"
           }
          ],
          "barpolar": [
           {
            "marker": {
             "line": {
              "color": "#E5ECF6",
              "width": 0.5
             },
             "pattern": {
              "fillmode": "overlay",
              "size": 10,
              "solidity": 0.2
             }
            },
            "type": "barpolar"
           }
          ],
          "carpet": [
           {
            "aaxis": {
             "endlinecolor": "#2a3f5f",
             "gridcolor": "white",
             "linecolor": "white",
             "minorgridcolor": "white",
             "startlinecolor": "#2a3f5f"
            },
            "baxis": {
             "endlinecolor": "#2a3f5f",
             "gridcolor": "white",
             "linecolor": "white",
             "minorgridcolor": "white",
             "startlinecolor": "#2a3f5f"
            },
            "type": "carpet"
           }
          ],
          "choropleth": [
           {
            "colorbar": {
             "outlinewidth": 0,
             "ticks": ""
            },
            "type": "choropleth"
           }
          ],
          "contour": [
           {
            "colorbar": {
             "outlinewidth": 0,
             "ticks": ""
            },
            "colorscale": [
             [
              0,
              "#0d0887"
             ],
             [
              0.1111111111111111,
              "#46039f"
             ],
             [
              0.2222222222222222,
              "#7201a8"
             ],
             [
              0.3333333333333333,
              "#9c179e"
             ],
             [
              0.4444444444444444,
              "#bd3786"
             ],
             [
              0.5555555555555556,
              "#d8576b"
             ],
             [
              0.6666666666666666,
              "#ed7953"
             ],
             [
              0.7777777777777778,
              "#fb9f3a"
             ],
             [
              0.8888888888888888,
              "#fdca26"
             ],
             [
              1,
              "#f0f921"
             ]
            ],
            "type": "contour"
           }
          ],
          "contourcarpet": [
           {
            "colorbar": {
             "outlinewidth": 0,
             "ticks": ""
            },
            "type": "contourcarpet"
           }
          ],
          "heatmap": [
           {
            "colorbar": {
             "outlinewidth": 0,
             "ticks": ""
            },
            "colorscale": [
             [
              0,
              "#0d0887"
             ],
             [
              0.1111111111111111,
              "#46039f"
             ],
             [
              0.2222222222222222,
              "#7201a8"
             ],
             [
              0.3333333333333333,
              "#9c179e"
             ],
             [
              0.4444444444444444,
              "#bd3786"
             ],
             [
              0.5555555555555556,
              "#d8576b"
             ],
             [
              0.6666666666666666,
              "#ed7953"
             ],
             [
              0.7777777777777778,
              "#fb9f3a"
             ],
             [
              0.8888888888888888,
              "#fdca26"
             ],
             [
              1,
              "#f0f921"
             ]
            ],
            "type": "heatmap"
           }
          ],
          "heatmapgl": [
           {
            "colorbar": {
             "outlinewidth": 0,
             "ticks": ""
            },
            "colorscale": [
             [
              0,
              "#0d0887"
             ],
             [
              0.1111111111111111,
              "#46039f"
             ],
             [
              0.2222222222222222,
              "#7201a8"
             ],
             [
              0.3333333333333333,
              "#9c179e"
             ],
             [
              0.4444444444444444,
              "#bd3786"
             ],
             [
              0.5555555555555556,
              "#d8576b"
             ],
             [
              0.6666666666666666,
              "#ed7953"
             ],
             [
              0.7777777777777778,
              "#fb9f3a"
             ],
             [
              0.8888888888888888,
              "#fdca26"
             ],
             [
              1,
              "#f0f921"
             ]
            ],
            "type": "heatmapgl"
           }
          ],
          "histogram": [
           {
            "marker": {
             "pattern": {
              "fillmode": "overlay",
              "size": 10,
              "solidity": 0.2
             }
            },
            "type": "histogram"
           }
          ],
          "histogram2d": [
           {
            "colorbar": {
             "outlinewidth": 0,
             "ticks": ""
            },
            "colorscale": [
             [
              0,
              "#0d0887"
             ],
             [
              0.1111111111111111,
              "#46039f"
             ],
             [
              0.2222222222222222,
              "#7201a8"
             ],
             [
              0.3333333333333333,
              "#9c179e"
             ],
             [
              0.4444444444444444,
              "#bd3786"
             ],
             [
              0.5555555555555556,
              "#d8576b"
             ],
             [
              0.6666666666666666,
              "#ed7953"
             ],
             [
              0.7777777777777778,
              "#fb9f3a"
             ],
             [
              0.8888888888888888,
              "#fdca26"
             ],
             [
              1,
              "#f0f921"
             ]
            ],
            "type": "histogram2d"
           }
          ],
          "histogram2dcontour": [
           {
            "colorbar": {
             "outlinewidth": 0,
             "ticks": ""
            },
            "colorscale": [
             [
              0,
              "#0d0887"
             ],
             [
              0.1111111111111111,
              "#46039f"
             ],
             [
              0.2222222222222222,
              "#7201a8"
             ],
             [
              0.3333333333333333,
              "#9c179e"
             ],
             [
              0.4444444444444444,
              "#bd3786"
             ],
             [
              0.5555555555555556,
              "#d8576b"
             ],
             [
              0.6666666666666666,
              "#ed7953"
             ],
             [
              0.7777777777777778,
              "#fb9f3a"
             ],
             [
              0.8888888888888888,
              "#fdca26"
             ],
             [
              1,
              "#f0f921"
             ]
            ],
            "type": "histogram2dcontour"
           }
          ],
          "mesh3d": [
           {
            "colorbar": {
             "outlinewidth": 0,
             "ticks": ""
            },
            "type": "mesh3d"
           }
          ],
          "parcoords": [
           {
            "line": {
             "colorbar": {
              "outlinewidth": 0,
              "ticks": ""
             }
            },
            "type": "parcoords"
           }
          ],
          "pie": [
           {
            "automargin": true,
            "type": "pie"
           }
          ],
          "scatter": [
           {
            "fillpattern": {
             "fillmode": "overlay",
             "size": 10,
             "solidity": 0.2
            },
            "type": "scatter"
           }
          ],
          "scatter3d": [
           {
            "line": {
             "colorbar": {
              "outlinewidth": 0,
              "ticks": ""
             }
            },
            "marker": {
             "colorbar": {
              "outlinewidth": 0,
              "ticks": ""
             }
            },
            "type": "scatter3d"
           }
          ],
          "scattercarpet": [
           {
            "marker": {
             "colorbar": {
              "outlinewidth": 0,
              "ticks": ""
             }
            },
            "type": "scattercarpet"
           }
          ],
          "scattergeo": [
           {
            "marker": {
             "colorbar": {
              "outlinewidth": 0,
              "ticks": ""
             }
            },
            "type": "scattergeo"
           }
          ],
          "scattergl": [
           {
            "marker": {
             "colorbar": {
              "outlinewidth": 0,
              "ticks": ""
             }
            },
            "type": "scattergl"
           }
          ],
          "scattermapbox": [
           {
            "marker": {
             "colorbar": {
              "outlinewidth": 0,
              "ticks": ""
             }
            },
            "type": "scattermapbox"
           }
          ],
          "scatterpolar": [
           {
            "marker": {
             "colorbar": {
              "outlinewidth": 0,
              "ticks": ""
             }
            },
            "type": "scatterpolar"
           }
          ],
          "scatterpolargl": [
           {
            "marker": {
             "colorbar": {
              "outlinewidth": 0,
              "ticks": ""
             }
            },
            "type": "scatterpolargl"
           }
          ],
          "scatterternary": [
           {
            "marker": {
             "colorbar": {
              "outlinewidth": 0,
              "ticks": ""
             }
            },
            "type": "scatterternary"
           }
          ],
          "surface": [
           {
            "colorbar": {
             "outlinewidth": 0,
             "ticks": ""
            },
            "colorscale": [
             [
              0,
              "#0d0887"
             ],
             [
              0.1111111111111111,
              "#46039f"
             ],
             [
              0.2222222222222222,
              "#7201a8"
             ],
             [
              0.3333333333333333,
              "#9c179e"
             ],
             [
              0.4444444444444444,
              "#bd3786"
             ],
             [
              0.5555555555555556,
              "#d8576b"
             ],
             [
              0.6666666666666666,
              "#ed7953"
             ],
             [
              0.7777777777777778,
              "#fb9f3a"
             ],
             [
              0.8888888888888888,
              "#fdca26"
             ],
             [
              1,
              "#f0f921"
             ]
            ],
            "type": "surface"
           }
          ],
          "table": [
           {
            "cells": {
             "fill": {
              "color": "#EBF0F8"
             },
             "line": {
              "color": "white"
             }
            },
            "header": {
             "fill": {
              "color": "#C8D4E3"
             },
             "line": {
              "color": "white"
             }
            },
            "type": "table"
           }
          ]
         },
         "layout": {
          "annotationdefaults": {
           "arrowcolor": "#2a3f5f",
           "arrowhead": 0,
           "arrowwidth": 1
          },
          "autotypenumbers": "strict",
          "coloraxis": {
           "colorbar": {
            "outlinewidth": 0,
            "ticks": ""
           }
          },
          "colorscale": {
           "diverging": [
            [
             0,
             "#8e0152"
            ],
            [
             0.1,
             "#c51b7d"
            ],
            [
             0.2,
             "#de77ae"
            ],
            [
             0.3,
             "#f1b6da"
            ],
            [
             0.4,
             "#fde0ef"
            ],
            [
             0.5,
             "#f7f7f7"
            ],
            [
             0.6,
             "#e6f5d0"
            ],
            [
             0.7,
             "#b8e186"
            ],
            [
             0.8,
             "#7fbc41"
            ],
            [
             0.9,
             "#4d9221"
            ],
            [
             1,
             "#276419"
            ]
           ],
           "sequential": [
            [
             0,
             "#0d0887"
            ],
            [
             0.1111111111111111,
             "#46039f"
            ],
            [
             0.2222222222222222,
             "#7201a8"
            ],
            [
             0.3333333333333333,
             "#9c179e"
            ],
            [
             0.4444444444444444,
             "#bd3786"
            ],
            [
             0.5555555555555556,
             "#d8576b"
            ],
            [
             0.6666666666666666,
             "#ed7953"
            ],
            [
             0.7777777777777778,
             "#fb9f3a"
            ],
            [
             0.8888888888888888,
             "#fdca26"
            ],
            [
             1,
             "#f0f921"
            ]
           ],
           "sequentialminus": [
            [
             0,
             "#0d0887"
            ],
            [
             0.1111111111111111,
             "#46039f"
            ],
            [
             0.2222222222222222,
             "#7201a8"
            ],
            [
             0.3333333333333333,
             "#9c179e"
            ],
            [
             0.4444444444444444,
             "#bd3786"
            ],
            [
             0.5555555555555556,
             "#d8576b"
            ],
            [
             0.6666666666666666,
             "#ed7953"
            ],
            [
             0.7777777777777778,
             "#fb9f3a"
            ],
            [
             0.8888888888888888,
             "#fdca26"
            ],
            [
             1,
             "#f0f921"
            ]
           ]
          },
          "colorway": [
           "#636efa",
           "#EF553B",
           "#00cc96",
           "#ab63fa",
           "#FFA15A",
           "#19d3f3",
           "#FF6692",
           "#B6E880",
           "#FF97FF",
           "#FECB52"
          ],
          "font": {
           "color": "#2a3f5f"
          },
          "geo": {
           "bgcolor": "white",
           "lakecolor": "white",
           "landcolor": "#E5ECF6",
           "showlakes": true,
           "showland": true,
           "subunitcolor": "white"
          },
          "hoverlabel": {
           "align": "left"
          },
          "hovermode": "closest",
          "mapbox": {
           "style": "light"
          },
          "paper_bgcolor": "white",
          "plot_bgcolor": "#E5ECF6",
          "polar": {
           "angularaxis": {
            "gridcolor": "white",
            "linecolor": "white",
            "ticks": ""
           },
           "bgcolor": "#E5ECF6",
           "radialaxis": {
            "gridcolor": "white",
            "linecolor": "white",
            "ticks": ""
           }
          },
          "scene": {
           "xaxis": {
            "backgroundcolor": "#E5ECF6",
            "gridcolor": "white",
            "gridwidth": 2,
            "linecolor": "white",
            "showbackground": true,
            "ticks": "",
            "zerolinecolor": "white"
           },
           "yaxis": {
            "backgroundcolor": "#E5ECF6",
            "gridcolor": "white",
            "gridwidth": 2,
            "linecolor": "white",
            "showbackground": true,
            "ticks": "",
            "zerolinecolor": "white"
           },
           "zaxis": {
            "backgroundcolor": "#E5ECF6",
            "gridcolor": "white",
            "gridwidth": 2,
            "linecolor": "white",
            "showbackground": true,
            "ticks": "",
            "zerolinecolor": "white"
           }
          },
          "shapedefaults": {
           "line": {
            "color": "#2a3f5f"
           }
          },
          "ternary": {
           "aaxis": {
            "gridcolor": "white",
            "linecolor": "white",
            "ticks": ""
           },
           "baxis": {
            "gridcolor": "white",
            "linecolor": "white",
            "ticks": ""
           },
           "bgcolor": "#E5ECF6",
           "caxis": {
            "gridcolor": "white",
            "linecolor": "white",
            "ticks": ""
           }
          },
          "title": {
           "x": 0.05
          },
          "xaxis": {
           "automargin": true,
           "gridcolor": "white",
           "linecolor": "white",
           "ticks": "",
           "title": {
            "standoff": 15
           },
           "zerolinecolor": "white",
           "zerolinewidth": 2
          },
          "yaxis": {
           "automargin": true,
           "gridcolor": "white",
           "linecolor": "white",
           "ticks": "",
           "title": {
            "standoff": 15
           },
           "zerolinecolor": "white",
           "zerolinewidth": 2
          }
         }
        },
        "xaxis": {
         "anchor": "y",
         "domain": [
          0,
          1
         ],
         "title": {
          "text": "x"
         }
        },
        "xaxis2": {
         "anchor": "y2",
         "domain": [
          0,
          1
         ],
         "matches": "x",
         "showgrid": true,
         "showticklabels": false
        },
        "yaxis": {
         "anchor": "x",
         "domain": [
          0,
          0.7326
         ],
         "title": {
          "text": "y"
         }
        },
        "yaxis2": {
         "anchor": "x2",
         "domain": [
          0.7426,
          1
         ],
         "matches": "y2",
         "showgrid": true,
         "showline": false,
         "showticklabels": false,
         "ticks": ""
        }
       }
      }
     },
     "metadata": {},
     "output_type": "display_data"
    },
    {
     "name": "stdout",
     "output_type": "stream",
     "text": [
      "The bandwidth is  0.008262433703070296\n"
     ]
    }
   ],
   "source": [
    "display(ss.gaussian_kde(oi_brits.acc).pdf(oi_brits.amygdala))\n",
    "ss.gaussian_kde(oi_brits.acc).pdf(oi_brits.acc)\n",
    "display(px.scatter(x = oi_brits.acc, y = ss.gaussian_kde(oi_brits.acc).pdf(oi_brits.acc), marginal_x = \"histogram\"))\n",
    "print(\"The bandwidth is \", np.std(oi_brits.acc) * ss.gaussian_kde(oi_brits.acc).factor)"
   ]
  },
  {
   "attachments": {},
   "cell_type": "markdown",
   "id": "11586c38",
   "metadata": {},
   "source": [
    "### 2."
   ]
  },
  {
   "cell_type": "code",
   "execution_count": 46,
   "id": "015f13bb",
   "metadata": {},
   "outputs": [
    {
     "name": "stdout",
     "output_type": "stream",
     "text": [
      "The bandwidth for the amygdala is 0.015316368655217481\n",
      "The bandwidth for the acc is  0.00959951750187294\n"
     ]
    }
   ],
   "source": [
    "jointKDE = ss.gaussian_kde([oi_brits.amygdala, oi_brits.acc]).pdf([oi_brits.amygdala, oi_brits.acc])\n",
    "print(\"The bandwidth for the amygdala is\", ss.gaussian_kde([oi_brits.amygdala, oi_brits.acc]).factor * np.std(oi_brits.amygdala))\n",
    "print(\"The bandwidth for the acc is \", ss.gaussian_kde([oi_brits.amygdala, oi_brits.acc]).factor * np.std(oi_brits.acc))"
   ]
  },
  {
   "attachments": {},
   "cell_type": "markdown",
   "id": "2b91b97d",
   "metadata": {},
   "source": [
    "Since the data, as we will explore in the next question further, is not independent, we expect the joint density bandwidths to differ from the marginal bandwidths. "
   ]
  },
  {
   "attachments": {},
   "cell_type": "markdown",
   "id": "378e638f",
   "metadata": {},
   "source": [
    "### 3."
   ]
  },
  {
   "cell_type": "code",
   "execution_count": 47,
   "id": "9e2d2a92",
   "metadata": {},
   "outputs": [
    {
     "data": {
      "application/vnd.plotly.v1+json": {
       "config": {
        "plotlyServerURL": "https://plot.ly"
       },
       "data": [
        {
         "hovertemplate": "x=%{x}<br>y=%{y}<br>z=%{z}<extra></extra>",
         "legendgroup": "",
         "marker": {
          "color": "#636efa",
          "symbol": "circle"
         },
         "mode": "markers",
         "name": "",
         "scene": "scene",
         "showlegend": false,
         "type": "scatter3d",
         "x": [
          0.0051,
          -0.0674,
          -0.0257,
          0.0504,
          0.0125,
          -0.0024,
          -0.0262,
          -0.0032,
          0.0102,
          -0.0676,
          -0.0553,
          0.0705,
          0.0016,
          -0.0103,
          0.0064,
          0.0301,
          -0.0334,
          -0.0049,
          -0.0049,
          -0.0558,
          0.0029,
          0.0073,
          -0.058,
          0.0285,
          -0.0147,
          0.0123,
          -0.0091,
          0.0173,
          -0.0562,
          -0.0041,
          0.043,
          -0.0475,
          0.0717,
          -0.0191,
          0.0164,
          -0.0307,
          -0.0059,
          -0.0234,
          0.0252,
          -0.0546,
          -0.0109,
          -0.0205,
          0.0172,
          -0.0274,
          0.0029,
          0.0238,
          -0.0135,
          -0.0073,
          0.0339,
          -0.0058,
          0.0068,
          -0.0131,
          0.0332,
          -0.0242,
          0.0109,
          0.0252,
          0.0047,
          0.0486,
          0.0032,
          -0.0012,
          -0.0328,
          -0.0065,
          0.0054,
          -0.0252,
          0.0263,
          0.0013,
          -0.0615,
          0.0284,
          -0.0026,
          -0.0111,
          -0.0271,
          -0.0057,
          -0.0002,
          0.0262,
          -0.0232,
          0.0094,
          -0.0524,
          0.0517,
          0.0287,
          0.0352,
          -0.0123,
          -0.0568,
          0.0403,
          0.0281,
          0.0812,
          0.0174,
          0.0251,
          0.0676,
          -0.0097,
          0.0374
         ],
         "y": [
          -0.0286,
          0.0007,
          -0.011,
          -0.0167,
          -0.0005,
          0.0266,
          -0.0052,
          0.0099,
          0.0124,
          0.0217,
          -0.0018,
          -0.0224,
          -0.027,
          -0.0122,
          -0.0085,
          0.0031,
          -0.0218,
          0.019,
          -0.0054,
          -0.0107,
          0.0334,
          0.0194,
          0.0205,
          -0.0105,
          0.0559,
          -0.0161,
          0.0202,
          -0.0037,
          0.0037,
          -0.0105,
          0.0215,
          0.0348,
          -0.0042,
          -0.0216,
          -0.0023,
          -0.006,
          0.0125,
          -0.0015,
          -0.0294,
          -0.0122,
          -0.0377,
          0.0481,
          -0.0005,
          -0.0056,
          -0.0278,
          -0.0095,
          0.0501,
          -0.0111,
          0.0004,
          0.0065,
          0.0044,
          -0.0099,
          0.008,
          -0.0127,
          -0.0255,
          0.0178,
          0.0073,
          -0.0104,
          0.0079,
          0.0074,
          0.023,
          0.0137,
          -0.0035,
          -0.0065,
          -0.0005,
          0.0363,
          0.0005,
          -0.0107,
          -0.0145,
          -0.0101,
          -0.0076,
          0.0106,
          -0.0071,
          0.0183,
          -0.0241,
          -0.0236,
          -0.0232,
          -0.0124,
          0.0352,
          -0.0031,
          -0.0186,
          0.0462,
          -0.031,
          -0.0111,
          -0.0148,
          -0.0242,
          -0.0087,
          0.012,
          -0.0239,
          0.0502
         ],
         "z": [
          115.26710645291037,
          54.506841897553144,
          169.32980184620916,
          71.88165140821296,
          208.22954793814299,
          84.75238549868739,
          160.60372105784185,
          174.3496105422347,
          157.83354500404423,
          29.318433729849744,
          75.96760869711926,
          33.45656579177015,
          127.40499943070668,
          205.18678903037429,
          207.13452060734258,
          141.31590334701346,
          87.95788301844924,
          125.86627664897729,
          208.25115636015556,
          68.89027298968843,
          57.89250361290663,
          119.78662978704877,
          34.285126626233755,
          159.81114559675655,
          31.77878796085336,
          170.33380514067875,
          110.51605395828481,
          203.2201667493383,
          64.26989556059215,
          209.38138520382222,
          37.883544549152454,
          27.611583444454077,
          32.8695175984486,
          137.1296631185625,
          204.42224667394802,
          146.2922043422346,
          157.12384588573394,
          150.72491456067175,
          75.81162250286991,
          67.88223091672428,
          44.56533300425836,
          36.890839563350255,
          200.2432718376847,
          157.7002385762007,
          121.65117256662043,
          177.08227020623028,
          38.90249532605646,
          208.56550113033487,
          135.89230414737605,
          177.3551897880143,
          201.40037403211196,
          204.84860777401542,
          103.48919686486153,
          171.16541738657583,
          127.46330050035695,
          84.35599673578487,
          192.06829808874608,
          87.92728127850698,
          189.79187775824462,
          186.94983275733267,
          39.24974795769667,
          150.22948809656398,
          212.973375261895,
          168.52519521826193,
          172.38137857349236,
          50.84337939032211,
          65.1672681433066,
          159.30497743895566,
          198.7394919130829,
          207.17374360475057,
          163.86709659763122,
          165.04360912733222,
          211.35014773874684,
          79.78955411954189,
          106.21250448146372,
          140.38232470341853,
          39.359082284502406,
          77.13979541122622,
          30.57978324097187,
          140.39551596481996,
          174.4228977768608,
          19.246465390829876,
          40.891889993368316,
          158.51158899853291,
          29.447360789892613,
          119.60772192772541,
          176.4175047902399,
          20.581854247873483,
          141.27569449549142,
          15.24250300627073
         ]
        }
       ],
       "layout": {
        "legend": {
         "tracegroupgap": 0
        },
        "margin": {
         "t": 60
        },
        "scene": {
         "domain": {
          "x": [
           0,
           1
          ],
          "y": [
           0,
           1
          ]
         },
         "xaxis": {
          "title": {
           "text": "x"
          }
         },
         "yaxis": {
          "title": {
           "text": "y"
          }
         },
         "zaxis": {
          "title": {
           "text": "z"
          }
         }
        },
        "template": {
         "data": {
          "bar": [
           {
            "error_x": {
             "color": "#2a3f5f"
            },
            "error_y": {
             "color": "#2a3f5f"
            },
            "marker": {
             "line": {
              "color": "#E5ECF6",
              "width": 0.5
             },
             "pattern": {
              "fillmode": "overlay",
              "size": 10,
              "solidity": 0.2
             }
            },
            "type": "bar"
           }
          ],
          "barpolar": [
           {
            "marker": {
             "line": {
              "color": "#E5ECF6",
              "width": 0.5
             },
             "pattern": {
              "fillmode": "overlay",
              "size": 10,
              "solidity": 0.2
             }
            },
            "type": "barpolar"
           }
          ],
          "carpet": [
           {
            "aaxis": {
             "endlinecolor": "#2a3f5f",
             "gridcolor": "white",
             "linecolor": "white",
             "minorgridcolor": "white",
             "startlinecolor": "#2a3f5f"
            },
            "baxis": {
             "endlinecolor": "#2a3f5f",
             "gridcolor": "white",
             "linecolor": "white",
             "minorgridcolor": "white",
             "startlinecolor": "#2a3f5f"
            },
            "type": "carpet"
           }
          ],
          "choropleth": [
           {
            "colorbar": {
             "outlinewidth": 0,
             "ticks": ""
            },
            "type": "choropleth"
           }
          ],
          "contour": [
           {
            "colorbar": {
             "outlinewidth": 0,
             "ticks": ""
            },
            "colorscale": [
             [
              0,
              "#0d0887"
             ],
             [
              0.1111111111111111,
              "#46039f"
             ],
             [
              0.2222222222222222,
              "#7201a8"
             ],
             [
              0.3333333333333333,
              "#9c179e"
             ],
             [
              0.4444444444444444,
              "#bd3786"
             ],
             [
              0.5555555555555556,
              "#d8576b"
             ],
             [
              0.6666666666666666,
              "#ed7953"
             ],
             [
              0.7777777777777778,
              "#fb9f3a"
             ],
             [
              0.8888888888888888,
              "#fdca26"
             ],
             [
              1,
              "#f0f921"
             ]
            ],
            "type": "contour"
           }
          ],
          "contourcarpet": [
           {
            "colorbar": {
             "outlinewidth": 0,
             "ticks": ""
            },
            "type": "contourcarpet"
           }
          ],
          "heatmap": [
           {
            "colorbar": {
             "outlinewidth": 0,
             "ticks": ""
            },
            "colorscale": [
             [
              0,
              "#0d0887"
             ],
             [
              0.1111111111111111,
              "#46039f"
             ],
             [
              0.2222222222222222,
              "#7201a8"
             ],
             [
              0.3333333333333333,
              "#9c179e"
             ],
             [
              0.4444444444444444,
              "#bd3786"
             ],
             [
              0.5555555555555556,
              "#d8576b"
             ],
             [
              0.6666666666666666,
              "#ed7953"
             ],
             [
              0.7777777777777778,
              "#fb9f3a"
             ],
             [
              0.8888888888888888,
              "#fdca26"
             ],
             [
              1,
              "#f0f921"
             ]
            ],
            "type": "heatmap"
           }
          ],
          "heatmapgl": [
           {
            "colorbar": {
             "outlinewidth": 0,
             "ticks": ""
            },
            "colorscale": [
             [
              0,
              "#0d0887"
             ],
             [
              0.1111111111111111,
              "#46039f"
             ],
             [
              0.2222222222222222,
              "#7201a8"
             ],
             [
              0.3333333333333333,
              "#9c179e"
             ],
             [
              0.4444444444444444,
              "#bd3786"
             ],
             [
              0.5555555555555556,
              "#d8576b"
             ],
             [
              0.6666666666666666,
              "#ed7953"
             ],
             [
              0.7777777777777778,
              "#fb9f3a"
             ],
             [
              0.8888888888888888,
              "#fdca26"
             ],
             [
              1,
              "#f0f921"
             ]
            ],
            "type": "heatmapgl"
           }
          ],
          "histogram": [
           {
            "marker": {
             "pattern": {
              "fillmode": "overlay",
              "size": 10,
              "solidity": 0.2
             }
            },
            "type": "histogram"
           }
          ],
          "histogram2d": [
           {
            "colorbar": {
             "outlinewidth": 0,
             "ticks": ""
            },
            "colorscale": [
             [
              0,
              "#0d0887"
             ],
             [
              0.1111111111111111,
              "#46039f"
             ],
             [
              0.2222222222222222,
              "#7201a8"
             ],
             [
              0.3333333333333333,
              "#9c179e"
             ],
             [
              0.4444444444444444,
              "#bd3786"
             ],
             [
              0.5555555555555556,
              "#d8576b"
             ],
             [
              0.6666666666666666,
              "#ed7953"
             ],
             [
              0.7777777777777778,
              "#fb9f3a"
             ],
             [
              0.8888888888888888,
              "#fdca26"
             ],
             [
              1,
              "#f0f921"
             ]
            ],
            "type": "histogram2d"
           }
          ],
          "histogram2dcontour": [
           {
            "colorbar": {
             "outlinewidth": 0,
             "ticks": ""
            },
            "colorscale": [
             [
              0,
              "#0d0887"
             ],
             [
              0.1111111111111111,
              "#46039f"
             ],
             [
              0.2222222222222222,
              "#7201a8"
             ],
             [
              0.3333333333333333,
              "#9c179e"
             ],
             [
              0.4444444444444444,
              "#bd3786"
             ],
             [
              0.5555555555555556,
              "#d8576b"
             ],
             [
              0.6666666666666666,
              "#ed7953"
             ],
             [
              0.7777777777777778,
              "#fb9f3a"
             ],
             [
              0.8888888888888888,
              "#fdca26"
             ],
             [
              1,
              "#f0f921"
             ]
            ],
            "type": "histogram2dcontour"
           }
          ],
          "mesh3d": [
           {
            "colorbar": {
             "outlinewidth": 0,
             "ticks": ""
            },
            "type": "mesh3d"
           }
          ],
          "parcoords": [
           {
            "line": {
             "colorbar": {
              "outlinewidth": 0,
              "ticks": ""
             }
            },
            "type": "parcoords"
           }
          ],
          "pie": [
           {
            "automargin": true,
            "type": "pie"
           }
          ],
          "scatter": [
           {
            "fillpattern": {
             "fillmode": "overlay",
             "size": 10,
             "solidity": 0.2
            },
            "type": "scatter"
           }
          ],
          "scatter3d": [
           {
            "line": {
             "colorbar": {
              "outlinewidth": 0,
              "ticks": ""
             }
            },
            "marker": {
             "colorbar": {
              "outlinewidth": 0,
              "ticks": ""
             }
            },
            "type": "scatter3d"
           }
          ],
          "scattercarpet": [
           {
            "marker": {
             "colorbar": {
              "outlinewidth": 0,
              "ticks": ""
             }
            },
            "type": "scattercarpet"
           }
          ],
          "scattergeo": [
           {
            "marker": {
             "colorbar": {
              "outlinewidth": 0,
              "ticks": ""
             }
            },
            "type": "scattergeo"
           }
          ],
          "scattergl": [
           {
            "marker": {
             "colorbar": {
              "outlinewidth": 0,
              "ticks": ""
             }
            },
            "type": "scattergl"
           }
          ],
          "scattermapbox": [
           {
            "marker": {
             "colorbar": {
              "outlinewidth": 0,
              "ticks": ""
             }
            },
            "type": "scattermapbox"
           }
          ],
          "scatterpolar": [
           {
            "marker": {
             "colorbar": {
              "outlinewidth": 0,
              "ticks": ""
             }
            },
            "type": "scatterpolar"
           }
          ],
          "scatterpolargl": [
           {
            "marker": {
             "colorbar": {
              "outlinewidth": 0,
              "ticks": ""
             }
            },
            "type": "scatterpolargl"
           }
          ],
          "scatterternary": [
           {
            "marker": {
             "colorbar": {
              "outlinewidth": 0,
              "ticks": ""
             }
            },
            "type": "scatterternary"
           }
          ],
          "surface": [
           {
            "colorbar": {
             "outlinewidth": 0,
             "ticks": ""
            },
            "colorscale": [
             [
              0,
              "#0d0887"
             ],
             [
              0.1111111111111111,
              "#46039f"
             ],
             [
              0.2222222222222222,
              "#7201a8"
             ],
             [
              0.3333333333333333,
              "#9c179e"
             ],
             [
              0.4444444444444444,
              "#bd3786"
             ],
             [
              0.5555555555555556,
              "#d8576b"
             ],
             [
              0.6666666666666666,
              "#ed7953"
             ],
             [
              0.7777777777777778,
              "#fb9f3a"
             ],
             [
              0.8888888888888888,
              "#fdca26"
             ],
             [
              1,
              "#f0f921"
             ]
            ],
            "type": "surface"
           }
          ],
          "table": [
           {
            "cells": {
             "fill": {
              "color": "#EBF0F8"
             },
             "line": {
              "color": "white"
             }
            },
            "header": {
             "fill": {
              "color": "#C8D4E3"
             },
             "line": {
              "color": "white"
             }
            },
            "type": "table"
           }
          ]
         },
         "layout": {
          "annotationdefaults": {
           "arrowcolor": "#2a3f5f",
           "arrowhead": 0,
           "arrowwidth": 1
          },
          "autotypenumbers": "strict",
          "coloraxis": {
           "colorbar": {
            "outlinewidth": 0,
            "ticks": ""
           }
          },
          "colorscale": {
           "diverging": [
            [
             0,
             "#8e0152"
            ],
            [
             0.1,
             "#c51b7d"
            ],
            [
             0.2,
             "#de77ae"
            ],
            [
             0.3,
             "#f1b6da"
            ],
            [
             0.4,
             "#fde0ef"
            ],
            [
             0.5,
             "#f7f7f7"
            ],
            [
             0.6,
             "#e6f5d0"
            ],
            [
             0.7,
             "#b8e186"
            ],
            [
             0.8,
             "#7fbc41"
            ],
            [
             0.9,
             "#4d9221"
            ],
            [
             1,
             "#276419"
            ]
           ],
           "sequential": [
            [
             0,
             "#0d0887"
            ],
            [
             0.1111111111111111,
             "#46039f"
            ],
            [
             0.2222222222222222,
             "#7201a8"
            ],
            [
             0.3333333333333333,
             "#9c179e"
            ],
            [
             0.4444444444444444,
             "#bd3786"
            ],
            [
             0.5555555555555556,
             "#d8576b"
            ],
            [
             0.6666666666666666,
             "#ed7953"
            ],
            [
             0.7777777777777778,
             "#fb9f3a"
            ],
            [
             0.8888888888888888,
             "#fdca26"
            ],
            [
             1,
             "#f0f921"
            ]
           ],
           "sequentialminus": [
            [
             0,
             "#0d0887"
            ],
            [
             0.1111111111111111,
             "#46039f"
            ],
            [
             0.2222222222222222,
             "#7201a8"
            ],
            [
             0.3333333333333333,
             "#9c179e"
            ],
            [
             0.4444444444444444,
             "#bd3786"
            ],
            [
             0.5555555555555556,
             "#d8576b"
            ],
            [
             0.6666666666666666,
             "#ed7953"
            ],
            [
             0.7777777777777778,
             "#fb9f3a"
            ],
            [
             0.8888888888888888,
             "#fdca26"
            ],
            [
             1,
             "#f0f921"
            ]
           ]
          },
          "colorway": [
           "#636efa",
           "#EF553B",
           "#00cc96",
           "#ab63fa",
           "#FFA15A",
           "#19d3f3",
           "#FF6692",
           "#B6E880",
           "#FF97FF",
           "#FECB52"
          ],
          "font": {
           "color": "#2a3f5f"
          },
          "geo": {
           "bgcolor": "white",
           "lakecolor": "white",
           "landcolor": "#E5ECF6",
           "showlakes": true,
           "showland": true,
           "subunitcolor": "white"
          },
          "hoverlabel": {
           "align": "left"
          },
          "hovermode": "closest",
          "mapbox": {
           "style": "light"
          },
          "paper_bgcolor": "white",
          "plot_bgcolor": "#E5ECF6",
          "polar": {
           "angularaxis": {
            "gridcolor": "white",
            "linecolor": "white",
            "ticks": ""
           },
           "bgcolor": "#E5ECF6",
           "radialaxis": {
            "gridcolor": "white",
            "linecolor": "white",
            "ticks": ""
           }
          },
          "scene": {
           "xaxis": {
            "backgroundcolor": "#E5ECF6",
            "gridcolor": "white",
            "gridwidth": 2,
            "linecolor": "white",
            "showbackground": true,
            "ticks": "",
            "zerolinecolor": "white"
           },
           "yaxis": {
            "backgroundcolor": "#E5ECF6",
            "gridcolor": "white",
            "gridwidth": 2,
            "linecolor": "white",
            "showbackground": true,
            "ticks": "",
            "zerolinecolor": "white"
           },
           "zaxis": {
            "backgroundcolor": "#E5ECF6",
            "gridcolor": "white",
            "gridwidth": 2,
            "linecolor": "white",
            "showbackground": true,
            "ticks": "",
            "zerolinecolor": "white"
           }
          },
          "shapedefaults": {
           "line": {
            "color": "#2a3f5f"
           }
          },
          "ternary": {
           "aaxis": {
            "gridcolor": "white",
            "linecolor": "white",
            "ticks": ""
           },
           "baxis": {
            "gridcolor": "white",
            "linecolor": "white",
            "ticks": ""
           },
           "bgcolor": "#E5ECF6",
           "caxis": {
            "gridcolor": "white",
            "linecolor": "white",
            "ticks": ""
           }
          },
          "title": {
           "x": 0.05
          },
          "xaxis": {
           "automargin": true,
           "gridcolor": "white",
           "linecolor": "white",
           "ticks": "",
           "title": {
            "standoff": 15
           },
           "zerolinecolor": "white",
           "zerolinewidth": 2
          },
          "yaxis": {
           "automargin": true,
           "gridcolor": "white",
           "linecolor": "white",
           "ticks": "",
           "title": {
            "standoff": 15
           },
           "zerolinecolor": "white",
           "zerolinewidth": 2
          }
         }
        }
       }
      }
     },
     "metadata": {},
     "output_type": "display_data"
    }
   ],
   "source": [
    "display(px.scatter_3d(x = oi_brits.amygdala, y = oi_brits.acc, z = jointKDE))"
   ]
  },
  {
   "attachments": {},
   "cell_type": "markdown",
   "id": "4568c9e7",
   "metadata": {},
   "source": [
    "We can see from the joint density that the joint density plot that the KDE is not symmetric. "
   ]
  }
 ],
 "metadata": {
  "kernelspec": {
   "display_name": "Python 3",
   "language": "python",
   "name": "python3"
  },
  "language_info": {
   "codemirror_mode": {
    "name": "ipython",
    "version": 3
   },
   "file_extension": ".py",
   "mimetype": "text/x-python",
   "name": "python",
   "nbconvert_exporter": "python",
   "pygments_lexer": "ipython3",
   "version": "3.8.16"
  }
 },
 "nbformat": 4,
 "nbformat_minor": 5
}
