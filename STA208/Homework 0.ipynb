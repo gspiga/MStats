{
 "cells": [
  {
   "cell_type": "markdown",
   "id": "ec13b64b",
   "metadata": {},
   "source": [
    "# Homework 0"
   ]
  },
  {
   "cell_type": "code",
   "execution_count": 102,
   "id": "b334ab05",
   "metadata": {},
   "outputs": [
    {
     "name": "stdout",
     "output_type": "stream",
     "text": [
      "The nb_black extension is already loaded. To reload it, use:\n",
      "  %reload_ext nb_black\n"
     ]
    },
    {
     "data": {
      "application/javascript": "\n            setTimeout(function() {\n                var nbb_cell_id = 102;\n                var nbb_unformatted_code = \"%load_ext nb_black\";\n                var nbb_formatted_code = \"%load_ext nb_black\";\n                var nbb_cells = Jupyter.notebook.get_cells();\n                for (var i = 0; i < nbb_cells.length; ++i) {\n                    if (nbb_cells[i].input_prompt_number == nbb_cell_id) {\n                        if (nbb_cells[i].get_text() == nbb_unformatted_code) {\n                             nbb_cells[i].set_text(nbb_formatted_code);\n                        }\n                        break;\n                    }\n                }\n            }, 500);\n            ",
      "text/plain": [
       "<IPython.core.display.Javascript object>"
      ]
     },
     "metadata": {},
     "output_type": "display_data"
    }
   ],
   "source": [
    "%load_ext nb_black"
   ]
  },
  {
   "cell_type": "code",
   "execution_count": 103,
   "id": "b3133b23",
   "metadata": {},
   "outputs": [
    {
     "data": {
      "application/javascript": "\n            setTimeout(function() {\n                var nbb_cell_id = 103;\n                var nbb_unformatted_code = \"import numpy as np\\nimport pandas as pd\\nimport copy\";\n                var nbb_formatted_code = \"import numpy as np\\nimport pandas as pd\\nimport copy\";\n                var nbb_cells = Jupyter.notebook.get_cells();\n                for (var i = 0; i < nbb_cells.length; ++i) {\n                    if (nbb_cells[i].input_prompt_number == nbb_cell_id) {\n                        if (nbb_cells[i].get_text() == nbb_unformatted_code) {\n                             nbb_cells[i].set_text(nbb_formatted_code);\n                        }\n                        break;\n                    }\n                }\n            }, 500);\n            ",
      "text/plain": [
       "<IPython.core.display.Javascript object>"
      ]
     },
     "metadata": {},
     "output_type": "display_data"
    }
   ],
   "source": [
    "import numpy as np\n",
    "import pandas as pd\n",
    "import copy"
   ]
  },
  {
   "attachments": {},
   "cell_type": "markdown",
   "id": "495a824f",
   "metadata": {},
   "source": [
    "##  Question 1 \n",
    "### a.)"
   ]
  },
  {
   "cell_type": "code",
   "execution_count": 104,
   "id": "41851e3b",
   "metadata": {},
   "outputs": [
    {
     "data": {
      "application/javascript": "\n            setTimeout(function() {\n                var nbb_cell_id = 104;\n                var nbb_unformatted_code = \"u = np.array([1, 2, 3, 3, 2, 1]).T\\n# https://stackoverflow.com/questions/11885503/numpy-transpose-of-1d-array-not-giving-expected-result\\nu = u[None].T\\n#u\";\n                var nbb_formatted_code = \"u = np.array([1, 2, 3, 3, 2, 1]).T\\n# https://stackoverflow.com/questions/11885503/numpy-transpose-of-1d-array-not-giving-expected-result\\nu = u[None].T\\n# u\";\n                var nbb_cells = Jupyter.notebook.get_cells();\n                for (var i = 0; i < nbb_cells.length; ++i) {\n                    if (nbb_cells[i].input_prompt_number == nbb_cell_id) {\n                        if (nbb_cells[i].get_text() == nbb_unformatted_code) {\n                             nbb_cells[i].set_text(nbb_formatted_code);\n                        }\n                        break;\n                    }\n                }\n            }, 500);\n            ",
      "text/plain": [
       "<IPython.core.display.Javascript object>"
      ]
     },
     "metadata": {},
     "output_type": "display_data"
    }
   ],
   "source": [
    "u = np.array([1, 2, 3, 3, 2, 1]).T\n",
    "# https://stackoverflow.com/questions/11885503/numpy-transpose-of-1d-array-not-giving-expected-result\n",
    "u = u[None].T\n",
    "#u"
   ]
  },
  {
   "cell_type": "code",
   "execution_count": 105,
   "id": "ce12303a",
   "metadata": {},
   "outputs": [
    {
     "data": {
      "text/plain": [
       "array([[ 0.92857143, -0.14285714, -0.21428571, -0.21428571, -0.14285714,\n",
       "        -0.07142857],\n",
       "       [-0.14285714,  0.71428571, -0.42857143, -0.42857143, -0.28571429,\n",
       "        -0.14285714],\n",
       "       [-0.21428571, -0.42857143,  0.35714286, -0.64285714, -0.42857143,\n",
       "        -0.21428571],\n",
       "       [-0.21428571, -0.42857143, -0.64285714,  0.35714286, -0.42857143,\n",
       "        -0.21428571],\n",
       "       [-0.14285714, -0.28571429, -0.42857143, -0.42857143,  0.71428571,\n",
       "        -0.14285714],\n",
       "       [-0.07142857, -0.14285714, -0.21428571, -0.21428571, -0.14285714,\n",
       "         0.92857143]])"
      ]
     },
     "execution_count": 105,
     "metadata": {},
     "output_type": "execute_result"
    },
    {
     "data": {
      "application/javascript": "\n            setTimeout(function() {\n                var nbb_cell_id = 105;\n                var nbb_unformatted_code = \"uuT = u @ u.T\\n(2 / (u.T @ u))\\nU = np.identity(6) - (2 / (u.T @ u)) * uuT\\nU\";\n                var nbb_formatted_code = \"uuT = u @ u.T\\n(2 / (u.T @ u))\\nU = np.identity(6) - (2 / (u.T @ u)) * uuT\\nU\";\n                var nbb_cells = Jupyter.notebook.get_cells();\n                for (var i = 0; i < nbb_cells.length; ++i) {\n                    if (nbb_cells[i].input_prompt_number == nbb_cell_id) {\n                        if (nbb_cells[i].get_text() == nbb_unformatted_code) {\n                             nbb_cells[i].set_text(nbb_formatted_code);\n                        }\n                        break;\n                    }\n                }\n            }, 500);\n            ",
      "text/plain": [
       "<IPython.core.display.Javascript object>"
      ]
     },
     "metadata": {},
     "output_type": "display_data"
    }
   ],
   "source": [
    "uuT = u @ u.T\n",
    "(2 / (u.T @ u))\n",
    "U = np.identity(6) - (2 / (u.T @ u)) * uuT\n",
    "U"
   ]
  },
  {
   "attachments": {},
   "cell_type": "markdown",
   "id": "60dd1716",
   "metadata": {},
   "source": [
    "### b.)"
   ]
  },
  {
   "cell_type": "code",
   "execution_count": 106,
   "id": "f123993d",
   "metadata": {},
   "outputs": [
    {
     "name": "stdout",
     "output_type": "stream",
     "text": [
      "The maximum value is  -2.7755575615628914e-17\n",
      "The minimum value is  -1.491862189340054e-16\n"
     ]
    },
    {
     "data": {
      "application/javascript": "\n            setTimeout(function() {\n                var nbb_cell_id = 106;\n                var nbb_unformatted_code = \"C = U @ U \\n# Duplicate data frame\\nC_copy = copy.deepcopy(C)\\n#print(C_copy)\\n# replace diagonal elements of copy with negative inf\\nnp.fill_diagonal(C_copy, -np.inf)\\n# Find max and min value\\nmax_value = C_copy.max()\\n\\n# Replace -inf with +inf and find min\\nnp.fill_diagonal(C_copy, np.inf)\\nmin_value = C_copy.min()\\nprint(\\\"The maximum value is \\\", max_value)\\nprint(\\\"The minimum value is \\\", min_value)\";\n                var nbb_formatted_code = \"C = U @ U\\n# Duplicate data frame\\nC_copy = copy.deepcopy(C)\\n# print(C_copy)\\n# replace diagonal elements of copy with negative inf\\nnp.fill_diagonal(C_copy, -np.inf)\\n# Find max and min value\\nmax_value = C_copy.max()\\n\\n# Replace -inf with +inf and find min\\nnp.fill_diagonal(C_copy, np.inf)\\nmin_value = C_copy.min()\\nprint(\\\"The maximum value is \\\", max_value)\\nprint(\\\"The minimum value is \\\", min_value)\";\n                var nbb_cells = Jupyter.notebook.get_cells();\n                for (var i = 0; i < nbb_cells.length; ++i) {\n                    if (nbb_cells[i].input_prompt_number == nbb_cell_id) {\n                        if (nbb_cells[i].get_text() == nbb_unformatted_code) {\n                             nbb_cells[i].set_text(nbb_formatted_code);\n                        }\n                        break;\n                    }\n                }\n            }, 500);\n            ",
      "text/plain": [
       "<IPython.core.display.Javascript object>"
      ]
     },
     "metadata": {},
     "output_type": "display_data"
    }
   ],
   "source": [
    "C = U @ U \n",
    "# Duplicate data frame\n",
    "C_copy = copy.deepcopy(C)\n",
    "#print(C_copy)\n",
    "# replace diagonal elements of copy with negative inf\n",
    "np.fill_diagonal(C_copy, -np.inf)\n",
    "# Find max and min value\n",
    "max_value = C_copy.max()\n",
    "\n",
    "# Replace -inf with +inf and find min\n",
    "np.fill_diagonal(C_copy, np.inf)\n",
    "min_value = C_copy.min()\n",
    "print(\"The maximum value is \", max_value)\n",
    "print(\"The minimum value is \", min_value)"
   ]
  },
  {
   "attachments": {},
   "cell_type": "markdown",
   "id": "8a0e68f4",
   "metadata": {},
   "source": [
    "### c.)"
   ]
  },
  {
   "cell_type": "code",
   "execution_count": 107,
   "id": "83bf4076",
   "metadata": {},
   "outputs": [
    {
     "name": "stdout",
     "output_type": "stream",
     "text": [
      "The maximum value in the diagonal is  1.0\n",
      "The minimum value in the diagonal is  1.0\n"
     ]
    },
    {
     "data": {
      "application/javascript": "\n            setTimeout(function() {\n                var nbb_cell_id = 107;\n                var nbb_unformatted_code = \"min_diag = np.diag(C).min()\\nmax_diag = np.diag(C).max()\\n\\nprint(\\\"The maximum value in the diagonal is \\\", max_diag)\\nprint(\\\"The minimum value in the diagonal is \\\", min_diag)\";\n                var nbb_formatted_code = \"min_diag = np.diag(C).min()\\nmax_diag = np.diag(C).max()\\n\\nprint(\\\"The maximum value in the diagonal is \\\", max_diag)\\nprint(\\\"The minimum value in the diagonal is \\\", min_diag)\";\n                var nbb_cells = Jupyter.notebook.get_cells();\n                for (var i = 0; i < nbb_cells.length; ++i) {\n                    if (nbb_cells[i].input_prompt_number == nbb_cell_id) {\n                        if (nbb_cells[i].get_text() == nbb_unformatted_code) {\n                             nbb_cells[i].set_text(nbb_formatted_code);\n                        }\n                        break;\n                    }\n                }\n            }, 500);\n            ",
      "text/plain": [
       "<IPython.core.display.Javascript object>"
      ]
     },
     "metadata": {},
     "output_type": "display_data"
    }
   ],
   "source": [
    "min_diag = np.diag(C).min()\n",
    "max_diag = np.diag(C).max()\n",
    "\n",
    "print(\"The maximum value in the diagonal is \", max_diag)\n",
    "print(\"The minimum value in the diagonal is \", min_diag)"
   ]
  },
  {
   "attachments": {},
   "cell_type": "markdown",
   "id": "b76bafde",
   "metadata": {},
   "source": [
    "### d.) "
   ]
  },
  {
   "cell_type": "code",
   "execution_count": 108,
   "id": "c9d8e1fe",
   "metadata": {},
   "outputs": [
    {
     "data": {
      "text/plain": [
       "array([[-1.],\n",
       "       [-2.],\n",
       "       [-3.],\n",
       "       [-3.],\n",
       "       [-2.],\n",
       "       [-1.]])"
      ]
     },
     "execution_count": 108,
     "metadata": {},
     "output_type": "execute_result"
    },
    {
     "data": {
      "application/javascript": "\n            setTimeout(function() {\n                var nbb_cell_id = 108;\n                var nbb_unformatted_code = \"U @ u\";\n                var nbb_formatted_code = \"U @ u\";\n                var nbb_cells = Jupyter.notebook.get_cells();\n                for (var i = 0; i < nbb_cells.length; ++i) {\n                    if (nbb_cells[i].input_prompt_number == nbb_cell_id) {\n                        if (nbb_cells[i].get_text() == nbb_unformatted_code) {\n                             nbb_cells[i].set_text(nbb_formatted_code);\n                        }\n                        break;\n                    }\n                }\n            }, 500);\n            ",
      "text/plain": [
       "<IPython.core.display.Javascript object>"
      ]
     },
     "metadata": {},
     "output_type": "display_data"
    }
   ],
   "source": [
    "U @ u"
   ]
  },
  {
   "attachments": {},
   "cell_type": "markdown",
   "id": "fc65f21d",
   "metadata": {},
   "source": [
    "## e.)"
   ]
  },
  {
   "cell_type": "code",
   "execution_count": 119,
   "id": "868388d7",
   "metadata": {},
   "outputs": [
    {
     "data": {
      "text/plain": [
       "array([0.92857143, 0.71428571, 0.64285714, 0.64285714, 0.71428571,\n",
       "       0.92857143])"
      ]
     },
     "execution_count": 119,
     "metadata": {},
     "output_type": "execute_result"
    },
    {
     "data": {
      "application/javascript": "\n            setTimeout(function() {\n                var nbb_cell_id = 119;\n                var nbb_unformatted_code = \"# Finding maximum in each column \\nnp.amax(np.abs(U), axis = 0)\";\n                var nbb_formatted_code = \"# Finding maximum in each column\\nnp.amax(np.abs(U), axis=0)\";\n                var nbb_cells = Jupyter.notebook.get_cells();\n                for (var i = 0; i < nbb_cells.length; ++i) {\n                    if (nbb_cells[i].input_prompt_number == nbb_cell_id) {\n                        if (nbb_cells[i].get_text() == nbb_unformatted_code) {\n                             nbb_cells[i].set_text(nbb_formatted_code);\n                        }\n                        break;\n                    }\n                }\n            }, 500);\n            ",
      "text/plain": [
       "<IPython.core.display.Javascript object>"
      ]
     },
     "metadata": {},
     "output_type": "display_data"
    }
   ],
   "source": [
    "# Finding maximum in each column \n",
    "np.amax(np.abs(U), axis = 0)"
   ]
  },
  {
   "cell_type": "markdown",
   "id": "b66694fe",
   "metadata": {},
   "source": [
    "### f.) "
   ]
  },
  {
   "cell_type": "code",
   "execution_count": 110,
   "id": "2b887ece",
   "metadata": {},
   "outputs": [
    {
     "data": {
      "text/plain": [
       "array([-0.21428571, -0.42857143,  0.35714286, -0.64285714, -0.42857143,\n",
       "       -0.21428571])"
      ]
     },
     "execution_count": 110,
     "metadata": {},
     "output_type": "execute_result"
    },
    {
     "data": {
      "application/javascript": "\n            setTimeout(function() {\n                var nbb_cell_id = 110;\n                var nbb_unformatted_code = \"# Remember python indexing starts at 0, 3rd row = index 2\\nU[2,]\";\n                var nbb_formatted_code = \"# Remember python indexing starts at 0, 3rd row = index 2\\nU[2,]\";\n                var nbb_cells = Jupyter.notebook.get_cells();\n                for (var i = 0; i < nbb_cells.length; ++i) {\n                    if (nbb_cells[i].input_prompt_number == nbb_cell_id) {\n                        if (nbb_cells[i].get_text() == nbb_unformatted_code) {\n                             nbb_cells[i].set_text(nbb_formatted_code);\n                        }\n                        break;\n                    }\n                }\n            }, 500);\n            ",
      "text/plain": [
       "<IPython.core.display.Javascript object>"
      ]
     },
     "metadata": {},
     "output_type": "display_data"
    }
   ],
   "source": [
    "# Remember python indexing starts at 0, 3rd row = index 2\n",
    "U[2,]"
   ]
  },
  {
   "attachments": {},
   "cell_type": "markdown",
   "id": "dc804b91",
   "metadata": {},
   "source": [
    "### g.)"
   ]
  },
  {
   "cell_type": "code",
   "execution_count": 111,
   "id": "99486e9c",
   "metadata": {},
   "outputs": [
    {
     "data": {
      "text/plain": [
       "array([-0.42857143, -0.42857143, -0.28571429, -0.14285714])"
      ]
     },
     "execution_count": 111,
     "metadata": {},
     "output_type": "execute_result"
    },
    {
     "data": {
      "application/javascript": "\n            setTimeout(function() {\n                var nbb_cell_id = 111;\n                var nbb_unformatted_code = \"U[2:, 1]\";\n                var nbb_formatted_code = \"U[2:, 1]\";\n                var nbb_cells = Jupyter.notebook.get_cells();\n                for (var i = 0; i < nbb_cells.length; ++i) {\n                    if (nbb_cells[i].input_prompt_number == nbb_cell_id) {\n                        if (nbb_cells[i].get_text() == nbb_unformatted_code) {\n                             nbb_cells[i].set_text(nbb_formatted_code);\n                        }\n                        break;\n                    }\n                }\n            }, 500);\n            ",
      "text/plain": [
       "<IPython.core.display.Javascript object>"
      ]
     },
     "metadata": {},
     "output_type": "display_data"
    }
   ],
   "source": [
    "U[2:, 1]"
   ]
  },
  {
   "attachments": {},
   "cell_type": "markdown",
   "id": "868d3642",
   "metadata": {},
   "source": [
    "### h.)"
   ]
  },
  {
   "cell_type": "code",
   "execution_count": 118,
   "id": "1f146531",
   "metadata": {},
   "outputs": [
    {
     "data": {
      "text/plain": [
       "array([[ 9.28571429e-01, -1.42857143e-01, -2.14285714e-01,\n",
       "        -2.77555756e-17, -2.77555756e-17, -1.38777878e-17],\n",
       "       [-1.42857143e-01,  7.14285714e-01, -4.28571429e-01,\n",
       "        -5.55111512e-17, -2.77555756e-17, -1.38777878e-17],\n",
       "       [-2.14285714e-01, -4.28571429e-01,  3.57142857e-01,\n",
       "        -2.77555756e-17, -5.55111512e-17, -2.77555756e-17],\n",
       "       [-2.77555756e-17, -5.55111512e-17, -2.77555756e-17,\n",
       "         6.42857143e-01,  4.28571429e-01,  2.14285714e-01],\n",
       "       [-2.77555756e-17, -2.77555756e-17, -5.55111512e-17,\n",
       "         4.28571429e-01,  2.85714286e-01,  1.42857143e-01],\n",
       "       [-1.38777878e-17, -1.38777878e-17, -2.77555756e-17,\n",
       "         2.14285714e-01,  1.42857143e-01,  7.14285714e-02]])"
      ]
     },
     "execution_count": 118,
     "metadata": {},
     "output_type": "execute_result"
    },
    {
     "data": {
      "application/javascript": "\n            setTimeout(function() {\n                var nbb_cell_id = 118;\n                var nbb_unformatted_code = \"A = U[:,0:3]\\nP = A @ A.T\\nP\";\n                var nbb_formatted_code = \"A = U[:, 0:3]\\nP = A @ A.T\\nP\";\n                var nbb_cells = Jupyter.notebook.get_cells();\n                for (var i = 0; i < nbb_cells.length; ++i) {\n                    if (nbb_cells[i].input_prompt_number == nbb_cell_id) {\n                        if (nbb_cells[i].get_text() == nbb_unformatted_code) {\n                             nbb_cells[i].set_text(nbb_formatted_code);\n                        }\n                        break;\n                    }\n                }\n            }, 500);\n            ",
      "text/plain": [
       "<IPython.core.display.Javascript object>"
      ]
     },
     "metadata": {},
     "output_type": "display_data"
    }
   ],
   "source": [
    "A = U[:,0:3]\n",
    "P = A @ A.T\n",
    "P"
   ]
  },
  {
   "attachments": {},
   "cell_type": "markdown",
   "id": "81aa7411",
   "metadata": {},
   "source": [
    "### e.) "
   ]
  },
  {
   "cell_type": "code",
   "execution_count": 122,
   "id": "abf30dd0",
   "metadata": {},
   "outputs": [
    {
     "name": "stdout",
     "output_type": "stream",
     "text": [
      "[[ 0.00000000e+00  0.00000000e+00  0.00000000e+00 -1.68515995e-17\n",
      "  -3.96508223e-18 -1.98254112e-18]\n",
      " [ 0.00000000e+00  1.11022302e-16  0.00000000e+00 -1.88341406e-17\n",
      "   1.98254112e-18  9.91270558e-19]\n",
      " [ 0.00000000e+00  0.00000000e+00  0.00000000e+00  1.23259516e-32\n",
      "   2.18079523e-17  1.09039761e-17]\n",
      " [-1.68515995e-17 -1.88341406e-17  1.23259516e-32 -1.11022302e-16\n",
      "  -5.55111512e-17 -2.77555756e-17]\n",
      " [-3.96508223e-18  1.98254112e-18  2.18079523e-17 -5.55111512e-17\n",
      "  -5.55111512e-17 -2.77555756e-17]\n",
      " [-1.98254112e-18  9.91270558e-19  1.09039761e-17 -2.77555756e-17\n",
      "  -2.77555756e-17 -1.38777878e-17]]\n"
     ]
    },
    {
     "data": {
      "application/javascript": "\n            setTimeout(function() {\n                var nbb_cell_id = 122;\n                var nbb_unformatted_code = \"np.amax(np.abs(P@P - P), axis = 0)\\nprint(P@P - P)\";\n                var nbb_formatted_code = \"np.amax(np.abs(P @ P - P), axis=0)\\nprint(P @ P - P)\";\n                var nbb_cells = Jupyter.notebook.get_cells();\n                for (var i = 0; i < nbb_cells.length; ++i) {\n                    if (nbb_cells[i].input_prompt_number == nbb_cell_id) {\n                        if (nbb_cells[i].get_text() == nbb_unformatted_code) {\n                             nbb_cells[i].set_text(nbb_formatted_code);\n                        }\n                        break;\n                    }\n                }\n            }, 500);\n            ",
      "text/plain": [
       "<IPython.core.display.Javascript object>"
      ]
     },
     "metadata": {},
     "output_type": "display_data"
    }
   ],
   "source": [
    "np.amax(np.abs(P@P - P), axis = 0)\n",
    "#print(P@P - P)\n"
   ]
  },
  {
   "attachments": {},
   "cell_type": "markdown",
   "id": "1045e582",
   "metadata": {},
   "source": [
    "### j.) "
   ]
  },
  {
   "cell_type": "code",
   "execution_count": 127,
   "id": "5e494bcb",
   "metadata": {},
   "outputs": [
    {
     "data": {
      "text/plain": [
       "array([[ 7.14285714e-02,  1.42857143e-01,  2.14285714e-01,\n",
       "        -2.60208521e-17, -1.21430643e-17, -1.38777878e-17],\n",
       "       [ 1.42857143e-01,  2.85714286e-01,  4.28571429e-01,\n",
       "        -5.20417043e-17, -2.42861287e-17, -2.77555756e-17],\n",
       "       [ 2.14285714e-01,  4.28571429e-01,  6.42857143e-01,\n",
       "        -2.77555756e-17, -3.81639165e-17, -2.77555756e-17],\n",
       "       [-2.60208521e-17, -5.20417043e-17, -2.77555756e-17,\n",
       "         3.57142857e-01, -4.28571429e-01, -2.14285714e-01],\n",
       "       [-1.21430643e-17, -2.42861287e-17, -3.81639165e-17,\n",
       "        -4.28571429e-01,  7.14285714e-01, -1.42857143e-01],\n",
       "       [-1.38777878e-17, -2.77555756e-17, -2.77555756e-17,\n",
       "        -2.14285714e-01, -1.42857143e-01,  9.28571429e-01]])"
      ]
     },
     "execution_count": 127,
     "metadata": {},
     "output_type": "execute_result"
    },
    {
     "data": {
      "application/javascript": "\n            setTimeout(function() {\n                var nbb_cell_id = 127;\n                var nbb_unformatted_code = \"B = U[:,3:]\\nQ = B @ B.T\\nQ\";\n                var nbb_formatted_code = \"B = U[:, 3:]\\nQ = B @ B.T\\nQ\";\n                var nbb_cells = Jupyter.notebook.get_cells();\n                for (var i = 0; i < nbb_cells.length; ++i) {\n                    if (nbb_cells[i].input_prompt_number == nbb_cell_id) {\n                        if (nbb_cells[i].get_text() == nbb_unformatted_code) {\n                             nbb_cells[i].set_text(nbb_formatted_code);\n                        }\n                        break;\n                    }\n                }\n            }, 500);\n            ",
      "text/plain": [
       "<IPython.core.display.Javascript object>"
      ]
     },
     "metadata": {},
     "output_type": "display_data"
    }
   ],
   "source": [
    "B = U[:,3:]\n",
    "Q = B @ B.T\n",
    "Q"
   ]
  },
  {
   "attachments": {},
   "cell_type": "markdown",
   "id": "e986501a",
   "metadata": {},
   "source": [
    "### k.) "
   ]
  },
  {
   "cell_type": "code",
   "execution_count": 128,
   "id": "87ec1c84",
   "metadata": {},
   "outputs": [
    {
     "data": {
      "text/plain": [
       "array([2.77555756e-17, 5.55111512e-17, 1.11022302e-16, 5.55111512e-17,\n",
       "       1.11022302e-16, 2.77555756e-17])"
      ]
     },
     "execution_count": 128,
     "metadata": {},
     "output_type": "execute_result"
    },
    {
     "data": {
      "application/javascript": "\n            setTimeout(function() {\n                var nbb_cell_id = 128;\n                var nbb_unformatted_code = \"np.amax(np.abs(Q@Q - Q), axis = 0)\";\n                var nbb_formatted_code = \"np.amax(np.abs(Q @ Q - Q), axis=0)\";\n                var nbb_cells = Jupyter.notebook.get_cells();\n                for (var i = 0; i < nbb_cells.length; ++i) {\n                    if (nbb_cells[i].input_prompt_number == nbb_cell_id) {\n                        if (nbb_cells[i].get_text() == nbb_unformatted_code) {\n                             nbb_cells[i].set_text(nbb_formatted_code);\n                        }\n                        break;\n                    }\n                }\n            }, 500);\n            ",
      "text/plain": [
       "<IPython.core.display.Javascript object>"
      ]
     },
     "metadata": {},
     "output_type": "display_data"
    }
   ],
   "source": [
    "np.amax(np.abs(Q@Q - Q), axis = 0)"
   ]
  },
  {
   "attachments": {},
   "cell_type": "markdown",
   "id": "48a07c3d",
   "metadata": {},
   "source": [
    "### l.)"
   ]
  },
  {
   "cell_type": "code",
   "execution_count": 129,
   "id": "9ba9a547",
   "metadata": {},
   "outputs": [
    {
     "data": {
      "text/plain": [
       "array([[ 1.00000000e+00, -2.77555756e-17, -5.55111512e-17,\n",
       "        -5.37764278e-17, -3.98986399e-17, -2.77555756e-17],\n",
       "       [-2.77555756e-17,  1.00000000e+00, -1.11022302e-16,\n",
       "        -1.07552856e-16, -5.20417043e-17, -4.16333634e-17],\n",
       "       [-5.55111512e-17, -1.11022302e-16,  1.00000000e+00,\n",
       "        -5.55111512e-17, -9.36750677e-17, -5.55111512e-17],\n",
       "       [-5.37764278e-17, -1.07552856e-16, -5.55111512e-17,\n",
       "         1.00000000e+00, -1.66533454e-16, -5.55111512e-17],\n",
       "       [-3.98986399e-17, -5.20417043e-17, -9.36750677e-17,\n",
       "        -1.66533454e-16,  1.00000000e+00, -2.77555756e-17],\n",
       "       [-2.77555756e-17, -4.16333634e-17, -5.55111512e-17,\n",
       "        -5.55111512e-17, -2.77555756e-17,  1.00000000e+00]])"
      ]
     },
     "execution_count": 129,
     "metadata": {},
     "output_type": "execute_result"
    },
    {
     "data": {
      "application/javascript": "\n            setTimeout(function() {\n                var nbb_cell_id = 129;\n                var nbb_unformatted_code = \"P + Q\";\n                var nbb_formatted_code = \"P + Q\";\n                var nbb_cells = Jupyter.notebook.get_cells();\n                for (var i = 0; i < nbb_cells.length; ++i) {\n                    if (nbb_cells[i].input_prompt_number == nbb_cell_id) {\n                        if (nbb_cells[i].get_text() == nbb_unformatted_code) {\n                             nbb_cells[i].set_text(nbb_formatted_code);\n                        }\n                        break;\n                    }\n                }\n            }, 500);\n            ",
      "text/plain": [
       "<IPython.core.display.Javascript object>"
      ]
     },
     "metadata": {},
     "output_type": "display_data"
    }
   ],
   "source": [
    "P + Q"
   ]
  },
  {
   "cell_type": "markdown",
   "id": "43a72c36",
   "metadata": {},
   "source": []
  }
 ],
 "metadata": {
  "kernelspec": {
   "display_name": "Python 3 (ipykernel)",
   "language": "python",
   "name": "python3"
  },
  "language_info": {
   "codemirror_mode": {
    "name": "ipython",
    "version": 3
   },
   "file_extension": ".py",
   "mimetype": "text/x-python",
   "name": "python",
   "nbconvert_exporter": "python",
   "pygments_lexer": "ipython3",
   "version": "3.8.16"
  }
 },
 "nbformat": 4,
 "nbformat_minor": 5
}
