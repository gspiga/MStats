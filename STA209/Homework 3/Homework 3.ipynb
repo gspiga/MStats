{
 "cells": [
  {
   "cell_type": "markdown",
   "metadata": {},
   "source": [
    "# Homework 3\n",
    "\n",
    "## Gianni Spiga\n",
    "\n",
    "### For STA 209, Fall 2023\n",
    "\n",
    "- I discussed approaches and methodology to these problems with Jonas Kempf and Niraj Bangari "
   ]
  },
  {
   "cell_type": "markdown",
   "metadata": {},
   "source": [
    "1. Assume set $V \\subset \\mathbb{R}^n$ is a nonempty convex set. Remember that according to the definition, a set is convex when\n",
    "\n",
    "$$\n",
    "\\text{For all} \\ x,y \\in V, \\ \\text{and for all} \\ 0 \\leq \\ \\alpha \\leq1 \\ \\text{we have} \\alpha x + (1 - \\alpha)y \\in V\n",
    "$$\n",
    "\n",
    " - (a) **Shifting a convex set** For $x_0 \\in \\mathbb{R}^n$, define\n",
    "$$\n",
    "W = x_0 + V := \\{x \\in \\mathbb{R}^n : x = x_0 + v \\ \\text{for some} \\ v \\in V\\}.\n",
    "$$\n",
    "\n",
    "- (b) Scaling a convex set For $\\lambda \\in \\mathbb{R}^n$, define\n",
    "$$\n",
    "W = \\lambda V := \\{x \\in \\mathbb{R}^n : x = \\lambda v  \\ \\text{for some} \\ v \\in V \\} .\n",
    "$$"
   ]
  },
  {
   "cell_type": "code",
   "execution_count": null,
   "metadata": {},
   "outputs": [],
   "source": []
  }
 ],
 "metadata": {
  "language_info": {
   "name": "python"
  }
 },
 "nbformat": 4,
 "nbformat_minor": 2
}
